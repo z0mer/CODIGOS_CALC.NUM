{
 "cells": [
  {
   "cell_type": "markdown",
   "metadata": {
    "id": "yCSClyJ8ouWs"
   },
   "source": [
    "## NumPy\n",
    "\n",
    "O `NumPy` é um pacote para computação científica em `Python`. Ela dá suporte para arrays e matrizes multidimensionais, e implementa operações e funções matemáticas eficientes sobre esses conjuntos.\n",
    "\n",
    "Na maior parte dos casos empregaremos as funções matemáticas do `NumPy`, como operações para manipulação de matrizes e vetores, funções trigonométricas, estatísticas e de randomização. O `Pandas`, pacote de manipulação de dados que empregaremos, é construído sobre o `NumPy`.\n",
    "\n",
    "Precisamos aqui de entender apenas algumas poucas classes de `NumPy` e, assim, um pequeno conjunto de exemplos será suficiente para nossos propósitos.\n",
    "\n"
   ]
  },
  {
   "cell_type": "markdown",
   "metadata": {
    "id": "J4T0DNJLpW4T"
   },
   "source": [
    "### Criando arrays\n",
    "\n",
    "Arrays podem ser de uma ou mais dimensões mas, diferentemente de listas `Python`, todos elementos devem ser do mesmo tipo. Arrays `Numpy` são indexados e seguem as mesmas regras de indexação do `Python` de listas e strings, isto é, iniciam por $0$ e o limite superior indicará o limite $<$ de range de valores a ser selecionado."
   ]
  },
  {
   "cell_type": "code",
   "execution_count": null,
   "metadata": {
    "colab": {
     "base_uri": "https://localhost:8080/"
    },
    "id": "3jyv8q38pr0D",
    "outputId": "d19ecb94-f4a6-4c96-ce42-5912e1b5f62c"
   },
   "outputs": [
    {
     "name": "stdout",
     "output_type": "stream",
     "text": [
      "1 2\n",
      "(3,) (3, 4)\n",
      "[1 2 3]\n",
      "[[ 1  2  3  4]\n",
      " [11 12 13 14]\n",
      " [21 22 23 24]]\n",
      "2\n",
      "[[11 12 13 14]\n",
      " [21 22 23 24]]\n",
      "14\n"
     ]
    }
   ],
   "source": [
    "import numpy as np\n",
    "\n",
    "array1D = np.array([1,2,3])\n",
    "array2D = np.array([[1,2,3,4],[11,12,13,14],[21,22,23,24]])\n",
    "\n",
    "print(array1D.ndim, array2D.ndim) # dimensões\n",
    "print(array1D.shape, array2D.shape) # tamanho de cada dimensão\n",
    "\n",
    "print(array1D)\n",
    "print(array2D)\n",
    "\n",
    "print(array1D[1])\n",
    "print(array2D[1:3])\n",
    "print(array2D[1][3])"
   ]
  },
  {
   "cell_type": "markdown",
   "metadata": {
    "id": "fiuBJuQ6qssy"
   },
   "source": [
    "Os arrays `NumPy` operam como listas indexadas e você pode empregar as mesmas formas de índices e iteração que empregamos em listas para percorrer arrays `NumPy`."
   ]
  },
  {
   "cell_type": "code",
   "execution_count": null,
   "metadata": {
    "colab": {
     "base_uri": "https://localhost:8080/"
    },
    "id": "ktybvoGbreFQ",
    "outputId": "52fe4de4-e5c0-401b-d170-651354ff84e1"
   },
   "outputs": [
    {
     "name": "stdout",
     "output_type": "stream",
     "text": [
      "0 1\n",
      "1 2\n",
      "2 3\n",
      "0 0 1\n",
      "0 1 2\n",
      "0 2 3\n",
      "0 3 4\n",
      "1 0 11\n",
      "1 1 12\n",
      "1 2 13\n",
      "1 3 14\n",
      "2 0 21\n",
      "2 1 22\n",
      "2 2 23\n",
      "2 3 24\n",
      "1\n",
      "2\n",
      "3\n",
      "1\n",
      "2\n",
      "3\n",
      "4\n",
      "11\n",
      "12\n",
      "13\n",
      "14\n",
      "21\n",
      "22\n",
      "23\n",
      "24\n"
     ]
    }
   ],
   "source": [
    "for i in range(array1D.shape[0]):\n",
    "    print(i, array1D[i])\n",
    "\n",
    "for i in range(array2D.shape[0]):       # percorre as linhas\n",
    "  for j in range(array2D.shape[1]):     # percorre as colunas\n",
    "    print(i, j, array2D[i,j])\n",
    "\n",
    "for elem in array1D:\n",
    "    print(elem)\n",
    "\n",
    "for linha in array2D:                   # percorre as linhas\n",
    "  for coluna in linha:                  # percorre as colunas\n",
    "    print(coluna)"
   ]
  },
  {
   "cell_type": "markdown",
   "metadata": {
    "id": "J_JDHeums6WB"
   },
   "source": [
    "### Operações sobre arrays `NumPy`\n",
    "\n",
    "Um dos recursos mais úteis do `NumPy`, e que não encontramos em linguagens como Java e C, é que diversas  operações podem ser executadas diretamente sobre toda a coleção de dados sem a necessidade de iterações ou laços de programa."
   ]
  },
  {
   "cell_type": "code",
   "execution_count": null,
   "metadata": {
    "colab": {
     "base_uri": "https://localhost:8080/"
    },
    "id": "it89cSyVteNT",
    "outputId": "a72cff22-7916-4e0b-ab6d-60a4f0195b06"
   },
   "outputs": [
    {
     "name": "stdout",
     "output_type": "stream",
     "text": [
      "2.0 6 [1 4 9]\n",
      "[2 4 6] [2 4 6] [ 4  9 16] [0.         0.69314718 1.09861229]\n"
     ]
    }
   ],
   "source": [
    "x = np.array([1,2,3])\n",
    "print( np.mean(x), np.sum(x), np.power(x,2) )\n",
    "print( 2*x, x+x, x**2 + 2*x + 1, np.log(x) )"
   ]
  },
  {
   "cell_type": "markdown",
   "metadata": {
    "id": "E2CWZ8hWtvzB"
   },
   "source": [
    "### Outras Operações Úteis\n",
    "\n",
    "Ainda, algumas operações de conversão, randomização e criação de sequencias de valores são muito úteis e serão empregadas ao longo de todo o livro."
   ]
  },
  {
   "cell_type": "code",
   "execution_count": null,
   "metadata": {
    "colab": {
     "base_uri": "https://localhost:8080/"
    },
    "id": "5YLuCzPDouWt",
    "outputId": "34228ed4-bc5a-41b9-910c-8be5079bbd3c"
   },
   "outputs": [
    {
     "name": "stdout",
     "output_type": "stream",
     "text": [
      "[1 2 3] [1, 2, 3]\n",
      "[5 4 2 1 1 3 3 2 3 1]\n",
      "[0.99873856 0.89441845 0.26139183 0.73330439]\n",
      "[0.14629798 0.17234917 0.61481704 0.59564882 0.68232631]\n",
      "[10 12 14 16 18]\n",
      "[10.         10.20408163 10.40816327 10.6122449  10.81632653 11.02040816\n",
      " 11.2244898  11.42857143 11.63265306 11.83673469 12.04081633 12.24489796\n",
      " 12.44897959 12.65306122 12.85714286 13.06122449 13.26530612 13.46938776\n",
      " 13.67346939 13.87755102 14.08163265 14.28571429 14.48979592 14.69387755\n",
      " 14.89795918 15.10204082 15.30612245 15.51020408 15.71428571 15.91836735\n",
      " 16.12244898 16.32653061 16.53061224 16.73469388 16.93877551 17.14285714\n",
      " 17.34693878 17.55102041 17.75510204 17.95918367 18.16326531 18.36734694\n",
      " 18.57142857 18.7755102  18.97959184 19.18367347 19.3877551  19.59183673\n",
      " 19.79591837 20.        ]\n"
     ]
    }
   ],
   "source": [
    "x = np.array([1,2,3])\n",
    "\n",
    "x_list = x.tolist()  # convertendo um NumPy array para uma lista `Python`\n",
    "print(x, x_list)\n",
    "\n",
    "np.random.seed(1984)                                    # semente de geração aleatória\n",
    "print( np.random.randint(low=1, high=6, size=10) )      # gerando inteiros aleatórios\n",
    "print( np.random.rand(4) )                              # gerando valores aleatórios entre [0,1]\n",
    "print( np.random.sample(5) )                            # gerando um sample de dados aleatórios\n",
    "\n",
    "print( np.arange( 10, 20, 2) )     # gerando uma lista de valores no intervalo [10,20[ com incrementos de 2\n",
    "\n",
    "print( np.linspace( 10, 20, 50) )  # gerando uma lista de valores de 50 valores no intervalo [10,20[\n"
   ]
  },
  {
   "cell_type": "markdown",
   "metadata": {
    "id": "MwYZaE9rd2Pm"
   },
   "source": [
    "#### NumPy functions\n",
    "\n",
    "As funções básicas estão disponíveis nativamente, mas para muitas funções matemáticas como funções trigonométricas, randomização e constantes como o $\\pi$ e $e$ é necessário recorrer a bibliotecas numéricas como o `NumPy` ou  `math` e, em geral, empregaremos o `NumPy`.\n",
    "\n"
   ]
  },
  {
   "cell_type": "code",
   "execution_count": null,
   "metadata": {
    "colab": {
     "base_uri": "https://localhost:8080/"
    },
    "id": "Ud0GcfPXouUy",
    "outputId": "e46f8845-d0fa-446c-8d7d-26ad3e2fec2d"
   },
   "outputs": [
    {
     "name": "stdout",
     "output_type": "stream",
     "text": [
      "3.141592653589793\n",
      "2.718281828459045\n",
      "1\n",
      "1\n",
      "[0.11077583]\n",
      "[0.70828206 0.98569622 0.41165035 0.07971794 0.6341663  0.34175151\n",
      " 0.68575985 0.38810094 0.32550541 0.60233199]\n"
     ]
    }
   ],
   "source": [
    "import numpy as np\n",
    "\n",
    "print(np.pi)            # pi\n",
    "print(np.exp(1))        # e\n",
    "\n",
    "print(5 % 2)\n",
    "# o mesmo que\n",
    "print(np.mod(5,2))\n",
    "\n",
    "print(np.random.rand(1))\n",
    "print(np.random.sample(10))"
   ]
  },
  {
   "cell_type": "markdown",
   "metadata": {},
   "source": [
    "### Operações com matrizes"
   ]
  },
  {
   "cell_type": "markdown",
   "metadata": {},
   "source": [
    "Exemplo:\n",
    "Dadas as matrizes A=[1 0 3; 5 4 1; 2 3 1] e B=[3 1 4; 1 2 1; 3 1 1],\n",
    "\n",
    "determinar:\n",
    "\n",
    "A+B          % soma de matrizes\n",
    "\n",
    "A*B           % multiplicação de matrizes\n",
    "\n",
    "det(A)       % determinante da matriz A\n",
    "\n",
    "B'              % transposta da matriz B\n",
    "\n",
    "2*B           % multiplicação de um número real pela matriz B\n",
    "\n",
    "inv(A)        % matriz inversa de A\n",
    "\n",
    "eye(3)       % matriz identidade de 3 linhas e 3 colunas\n",
    "\n",
    "zeros(3,2) % matriz de 3 linhas e duas colunas com valores zeros\n"
   ]
  },
  {
   "cell_type": "code",
   "execution_count": 2,
   "metadata": {},
   "outputs": [
    {
     "name": "stdout",
     "output_type": "stream",
     "text": [
      "A=\n",
      " [[1 0 3]\n",
      " [5 4 1]\n",
      " [2 3 1]]\n",
      "B=\n",
      " [[3 1 4]\n",
      " [1 2 1]\n",
      " [3 1 1]]\n"
     ]
    }
   ],
   "source": [
    "import numpy as np\n",
    "A=np.array([[1,0,3],[5,4,1],[2,3,1]])\n",
    "print('A=\\n',A)\n",
    "B=np.array([[3,1,4],[1,2,1],[3,1,1]])\n",
    "print('B=\\n',B)"
   ]
  },
  {
   "cell_type": "code",
   "execution_count": 3,
   "metadata": {},
   "outputs": [
    {
     "name": "stdout",
     "output_type": "stream",
     "text": [
      "C=\n",
      " [[4 1 7]\n",
      " [6 6 2]\n",
      " [5 4 2]]\n"
     ]
    }
   ],
   "source": [
    "C=A+B\n",
    "print('C=\\n',C)"
   ]
  },
  {
   "cell_type": "code",
   "execution_count": 4,
   "metadata": {},
   "outputs": [
    {
     "name": "stdout",
     "output_type": "stream",
     "text": [
      "D=\n",
      " [[12  4  7]\n",
      " [22 14 25]\n",
      " [12  9 12]]\n"
     ]
    }
   ],
   "source": [
    "D=np.dot(A,B)\n",
    "print('D=\\n',D)"
   ]
  },
  {
   "cell_type": "code",
   "execution_count": 5,
   "metadata": {},
   "outputs": [
    {
     "name": "stdout",
     "output_type": "stream",
     "text": [
      "22.00\n"
     ]
    }
   ],
   "source": [
    "det=np.linalg.det(A)\n",
    "print('%.2f'% det)"
   ]
  },
  {
   "cell_type": "code",
   "execution_count": 6,
   "metadata": {},
   "outputs": [
    {
     "name": "stdout",
     "output_type": "stream",
     "text": [
      "\n",
      "Obtendo a transposta\n",
      "[[3 1 3]\n",
      " [1 2 1]\n",
      " [4 1 1]]\n",
      "(3, 3)\n"
     ]
    }
   ],
   "source": [
    "print('\\nObtendo a transposta')\n",
    "a_transposta = B.T\n",
    "print(a_transposta)\n",
    "print(a_transposta.shape)"
   ]
  },
  {
   "cell_type": "code",
   "execution_count": 7,
   "metadata": {},
   "outputs": [
    {
     "name": "stdout",
     "output_type": "stream",
     "text": [
      "E=\n",
      " [[6 2 8]\n",
      " [2 4 2]\n",
      " [6 2 2]]\n"
     ]
    }
   ],
   "source": [
    "E=2*B\n",
    "print('E=\\n',E)"
   ]
  },
  {
   "cell_type": "code",
   "execution_count": 8,
   "metadata": {},
   "outputs": [
    {
     "name": "stdout",
     "output_type": "stream",
     "text": [
      "[[ 0.04545455  0.40909091 -0.54545455]\n",
      " [-0.13636364 -0.22727273  0.63636364]\n",
      " [ 0.31818182 -0.13636364  0.18181818]]\n"
     ]
    }
   ],
   "source": [
    "inv=np.linalg.inv(A)\n",
    "print(inv)"
   ]
  },
  {
   "cell_type": "code",
   "execution_count": 9,
   "metadata": {},
   "outputs": [
    {
     "name": "stdout",
     "output_type": "stream",
     "text": [
      "F=\n",
      " [[1. 0. 0.]\n",
      " [0. 1. 0.]\n",
      " [0. 0. 1.]]\n"
     ]
    }
   ],
   "source": [
    "F=np.identity(3)\n",
    "print('F=\\n',F)"
   ]
  },
  {
   "cell_type": "code",
   "execution_count": 11,
   "metadata": {},
   "outputs": [
    {
     "name": "stdout",
     "output_type": "stream",
     "text": [
      "G=\n",
      " [[0. 0.]\n",
      " [0. 0.]\n",
      " [0. 0.]]\n"
     ]
    }
   ],
   "source": [
    "G=np.zeros((3,2))\n",
    "print('G=\\n',G)"
   ]
  },
  {
   "cell_type": "markdown",
   "metadata": {
    "id": "EyFbZVilnhQp"
   },
   "source": [
    "\n",
    "## Pandas\n",
    "\n",
    "O `Pandas` é um pacote `Python` construído sobre `Numpy` para manipulação e análise de dados orientado a colunas. Ele organiza os dados em dois tipos de estruturas, `Series` e `DataFrames`, e opera seleções e transformações sobre essas coleções.\n",
    "\n",
    "* **`DataFrame`**: você pode entender um `DataFrame` como uma tabela de dados relacionais, com linhas e colunas nomeadas, como você encontra em Excel ou na SQL.\n",
    "\n",
    "* **`Series`**: é uma única coluna de dados somente com os seus valores, e o `DataFrame` contém um ou mais `Series` com um nome para cada uma delas.\n",
    "\n",
    "O `DataFrame`, implementado em `Python`, é uma abstração comumente usada para manipulação de dados que tem origem na linguagem R, mas você encontrará implementações similares também em outras linguagens.\n"
   ]
  },
  {
   "cell_type": "markdown",
   "metadata": {
    "id": "96GHLNV9nhQs"
   },
   "source": [
    "### Import da biblioteca"
   ]
  },
  {
   "cell_type": "code",
   "execution_count": 12,
   "metadata": {
    "id": "5b3eOLDUnhQt"
   },
   "outputs": [],
   "source": [
    "import pandas as pd\n",
    "import numpy as np"
   ]
  },
  {
   "cell_type": "markdown",
   "metadata": {
    "id": "uYc9EZFLhMmX"
   },
   "source": [
    "### Criando um `pd.Series` e um `pd.DataFrame`"
   ]
  },
  {
   "cell_type": "markdown",
   "metadata": {
    "id": "fjnAk1xcU0yc"
   },
   "source": [
    "Uma `pd.Series` pode ser criada a partir de uma lista e um `pd.Dataframe` pode ser criado empregando-se uma estrutura de dicionário."
   ]
  },
  {
   "cell_type": "code",
   "execution_count": 13,
   "metadata": {
    "colab": {
     "base_uri": "https://localhost:8080/",
     "height": 142
    },
    "id": "DFZ42Uq7UFDj",
    "outputId": "11204751-3674-4ae9-a30a-fa8666dddc05"
   },
   "outputs": [
    {
     "data": {
      "text/html": [
       "<div>\n",
       "<style scoped>\n",
       "    .dataframe tbody tr th:only-of-type {\n",
       "        vertical-align: middle;\n",
       "    }\n",
       "\n",
       "    .dataframe tbody tr th {\n",
       "        vertical-align: top;\n",
       "    }\n",
       "\n",
       "    .dataframe thead th {\n",
       "        text-align: right;\n",
       "    }\n",
       "</style>\n",
       "<table border=\"1\" class=\"dataframe\">\n",
       "  <thead>\n",
       "    <tr style=\"text-align: right;\">\n",
       "      <th></th>\n",
       "      <th>Student Name</th>\n",
       "      <th>Age</th>\n",
       "    </tr>\n",
       "  </thead>\n",
       "  <tbody>\n",
       "    <tr>\n",
       "      <th>0</th>\n",
       "      <td>Adriana</td>\n",
       "      <td>18</td>\n",
       "    </tr>\n",
       "    <tr>\n",
       "      <th>1</th>\n",
       "      <td>Carol</td>\n",
       "      <td>19</td>\n",
       "    </tr>\n",
       "    <tr>\n",
       "      <th>2</th>\n",
       "      <td>Daniel</td>\n",
       "      <td>19</td>\n",
       "    </tr>\n",
       "  </tbody>\n",
       "</table>\n",
       "</div>"
      ],
      "text/plain": [
       "  Student Name  Age\n",
       "0      Adriana   18\n",
       "1        Carol   19\n",
       "2       Daniel   19"
      ]
     },
     "execution_count": 13,
     "metadata": {},
     "output_type": "execute_result"
    }
   ],
   "source": [
    "# Séries\n",
    "student_names = pd.Series(['Adriana', 'Carol', 'Daniel'])\n",
    "age = pd.Series([18, 19, 19])\n",
    "\n",
    "# DataFrame\n",
    "students = pd.DataFrame({ 'Student Name': student_names, 'Age': age })\n",
    "students\n"
   ]
  },
  {
   "cell_type": "markdown",
   "metadata": {
    "id": "8-4imx64nhQ0"
   },
   "source": [
    "### Lendo um `DataFrame`\n",
    "\n",
    "O uso mais comum do `Pandas` que faremos é para o acesso a arquivos e bases de dados e o `Pandas` permite ler e gravar dados de diferentes fontes como arquivos `.csv, .json, .xlsx` e bancos de dados `sql`, Mongo etc.\n",
    "\n",
    "\n",
    "| Format        | Read           | Save          |\n",
    "| ------------- |:--------------:| ----------------:|\n",
    "| csv           | `pd.read_csv()`  |`df.to_csv()`     |\n",
    "| json          | `pd.read_json()` |`df.to_json()`    |\n",
    "| xlsx          | `pd.read_excel()`|`df.to_excel()`   |\n",
    "| hdf           | `pd.read_hdf()`  |`df.to_hdf()`     |\n",
    "| sql           | `pd.read_sql()`  |`df.to_sql()`     |\n",
    "\n",
    "acessados local ou pela internet.\n"
   ]
  },
  {
   "cell_type": "code",
   "execution_count": 14,
   "metadata": {
    "colab": {
     "base_uri": "https://localhost:8080/",
     "height": 204
    },
    "id": "bZ7JDDTFh1tn",
    "outputId": "51150103-c5da-4578-cf62-d7f93f0fd43d"
   },
   "outputs": [
    {
     "data": {
      "text/html": [
       "<div>\n",
       "<style scoped>\n",
       "    .dataframe tbody tr th:only-of-type {\n",
       "        vertical-align: middle;\n",
       "    }\n",
       "\n",
       "    .dataframe tbody tr th {\n",
       "        vertical-align: top;\n",
       "    }\n",
       "\n",
       "    .dataframe thead th {\n",
       "        text-align: right;\n",
       "    }\n",
       "</style>\n",
       "<table border=\"1\" class=\"dataframe\">\n",
       "  <thead>\n",
       "    <tr style=\"text-align: right;\">\n",
       "      <th></th>\n",
       "      <th>total_bill</th>\n",
       "      <th>tip</th>\n",
       "      <th>sex</th>\n",
       "      <th>smoker</th>\n",
       "      <th>day</th>\n",
       "      <th>time</th>\n",
       "      <th>size</th>\n",
       "    </tr>\n",
       "  </thead>\n",
       "  <tbody>\n",
       "    <tr>\n",
       "      <th>0</th>\n",
       "      <td>16.99</td>\n",
       "      <td>1.01</td>\n",
       "      <td>Female</td>\n",
       "      <td>No</td>\n",
       "      <td>Sun</td>\n",
       "      <td>Dinner</td>\n",
       "      <td>2</td>\n",
       "    </tr>\n",
       "    <tr>\n",
       "      <th>1</th>\n",
       "      <td>10.34</td>\n",
       "      <td>1.66</td>\n",
       "      <td>Male</td>\n",
       "      <td>No</td>\n",
       "      <td>Sun</td>\n",
       "      <td>Dinner</td>\n",
       "      <td>3</td>\n",
       "    </tr>\n",
       "    <tr>\n",
       "      <th>2</th>\n",
       "      <td>21.01</td>\n",
       "      <td>3.50</td>\n",
       "      <td>Male</td>\n",
       "      <td>No</td>\n",
       "      <td>Sun</td>\n",
       "      <td>Dinner</td>\n",
       "      <td>3</td>\n",
       "    </tr>\n",
       "    <tr>\n",
       "      <th>3</th>\n",
       "      <td>23.68</td>\n",
       "      <td>3.31</td>\n",
       "      <td>Male</td>\n",
       "      <td>No</td>\n",
       "      <td>Sun</td>\n",
       "      <td>Dinner</td>\n",
       "      <td>2</td>\n",
       "    </tr>\n",
       "    <tr>\n",
       "      <th>4</th>\n",
       "      <td>24.59</td>\n",
       "      <td>3.61</td>\n",
       "      <td>Female</td>\n",
       "      <td>No</td>\n",
       "      <td>Sun</td>\n",
       "      <td>Dinner</td>\n",
       "      <td>4</td>\n",
       "    </tr>\n",
       "  </tbody>\n",
       "</table>\n",
       "</div>"
      ],
      "text/plain": [
       "   total_bill   tip     sex smoker  day    time  size\n",
       "0       16.99  1.01  Female     No  Sun  Dinner     2\n",
       "1       10.34  1.66    Male     No  Sun  Dinner     3\n",
       "2       21.01  3.50    Male     No  Sun  Dinner     3\n",
       "3       23.68  3.31    Male     No  Sun  Dinner     2\n",
       "4       24.59  3.61  Female     No  Sun  Dinner     4"
      ]
     },
     "execution_count": 14,
     "metadata": {},
     "output_type": "execute_result"
    }
   ],
   "source": [
    "tips = pd.read_csv('https://raw.githubusercontent.com/Rogerio-mack/Visualizacao-de-Dados-em-Python/main/data/tips.csv')\n",
    "tips.head()\n"
   ]
  },
  {
   "cell_type": "markdown",
   "metadata": {
    "id": "bLBgbbIC2-ZT"
   },
   "source": [
    "Acima, o comando `df.head()` exibe o aspecto inicial dos dados a partir de suas primeiras linhas."
   ]
  },
  {
   "cell_type": "markdown",
   "metadata": {
    "id": "Qt1MgTahrEHU"
   },
   "source": [
    "### Explorando a estrutura básica dos dados\n",
    "\n",
    "Antes de explorarmos o conteúdo dos dados é útil acessar informações sobre a estrutura dos dados que estamos lidando, como os valores que assumem os dados, quantas linhas temos em uma tabela, o número de atributos e os tipos dos dados."
   ]
  },
  {
   "cell_type": "code",
   "execution_count": 15,
   "metadata": {
    "colab": {
     "base_uri": "https://localhost:8080/"
    },
    "id": "DY9H5H2mr4y5",
    "outputId": "0b7b6405-b629-4ba2-8628-757d616c2b74"
   },
   "outputs": [
    {
     "data": {
      "text/plain": [
       "(244, 7)"
      ]
     },
     "execution_count": 15,
     "metadata": {},
     "output_type": "execute_result"
    }
   ],
   "source": [
    "tips.shape # nr de linhas e colunas"
   ]
  },
  {
   "cell_type": "code",
   "execution_count": 16,
   "metadata": {
    "colab": {
     "base_uri": "https://localhost:8080/"
    },
    "id": "KFexepHPsCvc",
    "outputId": "bb4f3caf-a3a3-47a2-81ad-c02ba53e8f32"
   },
   "outputs": [
    {
     "data": {
      "text/plain": [
       "244"
      ]
     },
     "execution_count": 16,
     "metadata": {},
     "output_type": "execute_result"
    }
   ],
   "source": [
    "len(tips) # número de linhas"
   ]
  },
  {
   "cell_type": "code",
   "execution_count": 17,
   "metadata": {
    "colab": {
     "base_uri": "https://localhost:8080/"
    },
    "id": "2p4ahOEvsF_N",
    "outputId": "9bacab95-dfe2-4e94-a01f-5b9b0f02548d"
   },
   "outputs": [
    {
     "data": {
      "text/plain": [
       "['total_bill', 'tip', 'sex', 'smoker', 'day', 'time', 'size']"
      ]
     },
     "execution_count": 17,
     "metadata": {},
     "output_type": "execute_result"
    }
   ],
   "source": [
    "tips.columns.to_list() # ou tips.columns"
   ]
  },
  {
   "cell_type": "code",
   "execution_count": null,
   "metadata": {
    "colab": {
     "base_uri": "https://localhost:8080/"
    },
    "id": "gFRccv18sMSN",
    "outputId": "50c6ce22-ada6-4a61-eb03-b956bf779345"
   },
   "outputs": [
    {
     "data": {
      "text/plain": [
       "total_bill    float64\n",
       "tip           float64\n",
       "sex            object\n",
       "smoker         object\n",
       "day            object\n",
       "time           object\n",
       "size            int64\n",
       "dtype: object"
      ]
     },
     "execution_count": 32,
     "metadata": {
      "tags": []
     },
     "output_type": "execute_result"
    }
   ],
   "source": [
    "tips.dtypes # tipo dos atributos"
   ]
  },
  {
   "cell_type": "markdown",
   "metadata": {
    "id": "Sw8Xa5TTs8EU"
   },
   "source": [
    "O comando `describe()` exibe informações estatísticas sumarizadas dos dados."
   ]
  },
  {
   "cell_type": "code",
   "execution_count": null,
   "metadata": {
    "colab": {
     "base_uri": "https://localhost:8080/",
     "height": 390
    },
    "id": "LJaweMWOsZV1",
    "outputId": "75203439-11f3-42f2-dd58-45484c4b274c"
   },
   "outputs": [
    {
     "data": {
      "text/html": [
       "<div>\n",
       "<style scoped>\n",
       "    .dataframe tbody tr th:only-of-type {\n",
       "        vertical-align: middle;\n",
       "    }\n",
       "\n",
       "    .dataframe tbody tr th {\n",
       "        vertical-align: top;\n",
       "    }\n",
       "\n",
       "    .dataframe thead th {\n",
       "        text-align: right;\n",
       "    }\n",
       "</style>\n",
       "<table border=\"1\" class=\"dataframe\">\n",
       "  <thead>\n",
       "    <tr style=\"text-align: right;\">\n",
       "      <th></th>\n",
       "      <th>total_bill</th>\n",
       "      <th>tip</th>\n",
       "      <th>sex</th>\n",
       "      <th>smoker</th>\n",
       "      <th>day</th>\n",
       "      <th>time</th>\n",
       "      <th>size</th>\n",
       "    </tr>\n",
       "  </thead>\n",
       "  <tbody>\n",
       "    <tr>\n",
       "      <th>count</th>\n",
       "      <td>244.000000</td>\n",
       "      <td>244.000000</td>\n",
       "      <td>244</td>\n",
       "      <td>244</td>\n",
       "      <td>244</td>\n",
       "      <td>244</td>\n",
       "      <td>244.000000</td>\n",
       "    </tr>\n",
       "    <tr>\n",
       "      <th>unique</th>\n",
       "      <td>NaN</td>\n",
       "      <td>NaN</td>\n",
       "      <td>2</td>\n",
       "      <td>2</td>\n",
       "      <td>4</td>\n",
       "      <td>2</td>\n",
       "      <td>NaN</td>\n",
       "    </tr>\n",
       "    <tr>\n",
       "      <th>top</th>\n",
       "      <td>NaN</td>\n",
       "      <td>NaN</td>\n",
       "      <td>Male</td>\n",
       "      <td>No</td>\n",
       "      <td>Sat</td>\n",
       "      <td>Dinner</td>\n",
       "      <td>NaN</td>\n",
       "    </tr>\n",
       "    <tr>\n",
       "      <th>freq</th>\n",
       "      <td>NaN</td>\n",
       "      <td>NaN</td>\n",
       "      <td>157</td>\n",
       "      <td>151</td>\n",
       "      <td>87</td>\n",
       "      <td>176</td>\n",
       "      <td>NaN</td>\n",
       "    </tr>\n",
       "    <tr>\n",
       "      <th>mean</th>\n",
       "      <td>19.785943</td>\n",
       "      <td>2.998279</td>\n",
       "      <td>NaN</td>\n",
       "      <td>NaN</td>\n",
       "      <td>NaN</td>\n",
       "      <td>NaN</td>\n",
       "      <td>2.569672</td>\n",
       "    </tr>\n",
       "    <tr>\n",
       "      <th>std</th>\n",
       "      <td>8.902412</td>\n",
       "      <td>1.383638</td>\n",
       "      <td>NaN</td>\n",
       "      <td>NaN</td>\n",
       "      <td>NaN</td>\n",
       "      <td>NaN</td>\n",
       "      <td>0.951100</td>\n",
       "    </tr>\n",
       "    <tr>\n",
       "      <th>min</th>\n",
       "      <td>3.070000</td>\n",
       "      <td>1.000000</td>\n",
       "      <td>NaN</td>\n",
       "      <td>NaN</td>\n",
       "      <td>NaN</td>\n",
       "      <td>NaN</td>\n",
       "      <td>1.000000</td>\n",
       "    </tr>\n",
       "    <tr>\n",
       "      <th>25%</th>\n",
       "      <td>13.347500</td>\n",
       "      <td>2.000000</td>\n",
       "      <td>NaN</td>\n",
       "      <td>NaN</td>\n",
       "      <td>NaN</td>\n",
       "      <td>NaN</td>\n",
       "      <td>2.000000</td>\n",
       "    </tr>\n",
       "    <tr>\n",
       "      <th>50%</th>\n",
       "      <td>17.795000</td>\n",
       "      <td>2.900000</td>\n",
       "      <td>NaN</td>\n",
       "      <td>NaN</td>\n",
       "      <td>NaN</td>\n",
       "      <td>NaN</td>\n",
       "      <td>2.000000</td>\n",
       "    </tr>\n",
       "    <tr>\n",
       "      <th>75%</th>\n",
       "      <td>24.127500</td>\n",
       "      <td>3.562500</td>\n",
       "      <td>NaN</td>\n",
       "      <td>NaN</td>\n",
       "      <td>NaN</td>\n",
       "      <td>NaN</td>\n",
       "      <td>3.000000</td>\n",
       "    </tr>\n",
       "    <tr>\n",
       "      <th>max</th>\n",
       "      <td>50.810000</td>\n",
       "      <td>10.000000</td>\n",
       "      <td>NaN</td>\n",
       "      <td>NaN</td>\n",
       "      <td>NaN</td>\n",
       "      <td>NaN</td>\n",
       "      <td>6.000000</td>\n",
       "    </tr>\n",
       "  </tbody>\n",
       "</table>\n",
       "</div>"
      ],
      "text/plain": [
       "        total_bill         tip   sex smoker  day    time        size\n",
       "count   244.000000  244.000000   244    244  244     244  244.000000\n",
       "unique         NaN         NaN     2      2    4       2         NaN\n",
       "top            NaN         NaN  Male     No  Sat  Dinner         NaN\n",
       "freq           NaN         NaN   157    151   87     176         NaN\n",
       "mean     19.785943    2.998279   NaN    NaN  NaN     NaN    2.569672\n",
       "std       8.902412    1.383638   NaN    NaN  NaN     NaN    0.951100\n",
       "min       3.070000    1.000000   NaN    NaN  NaN     NaN    1.000000\n",
       "25%      13.347500    2.000000   NaN    NaN  NaN     NaN    2.000000\n",
       "50%      17.795000    2.900000   NaN    NaN  NaN     NaN    2.000000\n",
       "75%      24.127500    3.562500   NaN    NaN  NaN     NaN    3.000000\n",
       "max      50.810000   10.000000   NaN    NaN  NaN     NaN    6.000000"
      ]
     },
     "execution_count": 33,
     "metadata": {
      "tags": []
     },
     "output_type": "execute_result"
    }
   ],
   "source": [
    "tips.describe(include='all')"
   ]
  },
  {
   "cell_type": "markdown",
   "metadata": {
    "id": "YM1r9pHqtJlO"
   },
   "source": [
    "### Selecionando Dados\n",
    "\n",
    "Seleções dos dados são bastante importantes. Você nem sempre estará interessado em exibir ou analisar todos os dados. Por exemplo, você pode ter dados de produção de várias unidades de uma fábrica, mas estar interessado somente em dados das unidades de São Paulo (seleção de linhas ou casos). Ou, você pode ter dados de vendas com diversas informações dos produtos (cor, modelo etc.) e dos clientes (nome, CPF etc.) e quer apenas dados de peso e dimensões do produto, da origem e destino da compra, para analisar os preços de frete (seleção de colunas ou atributos). E mais frequentemente ainda você vai realizar as duas seleções criando *slices* (fatias) dos dados com as informações de interesse.\n",
    "\n"
   ]
  },
  {
   "cell_type": "markdown",
   "metadata": {
    "id": "CxQVxpOS93Bx"
   },
   "source": [
    "### Seleção de Colunas, Seleção de Linhas e de Linhas e Colunas\n",
    "\n",
    "<img src=\"https://pandas.pydata.org/docs/_images/03_subset_columns.svg\" width=320, align=\"center\">\n",
    "<img src=\"https://pandas.pydata.org/docs/_images/03_subset_rows.svg\" width=320, align=\"center\">\n",
    "<img src=\"https://pandas.pydata.org/docs/_images/03_subset_columns_rows.svg\" width=320, align=\"center\">\n",
    "\n"
   ]
  },
  {
   "cell_type": "markdown",
   "metadata": {
    "id": "qBPLru58u2XV"
   },
   "source": [
    "### Selecionando colunas de dados como `pd.Series`\n",
    "\n",
    "As colunas de um `DataFrame` são séries do `Pandas` e podemos selecionar e operar com cada uma das séries de um `DataFrame`. Existem dois modos de seleção\n",
    "\n",
    "```\n",
    "df.<nome do atributo>\n",
    "\n",
    "df['<nome do atributo>']\n",
    "```\n",
    "\n",
    "elas retornam o mesmo resultado e a segunda forma é sempre necessária quando temos nomes de atributos com espaços ou caracteres especiais.\n"
   ]
  },
  {
   "cell_type": "code",
   "execution_count": null,
   "metadata": {
    "colab": {
     "base_uri": "https://localhost:8080/"
    },
    "id": "hZI7X1P2vFUW",
    "outputId": "61db96ea-2860-49d4-958c-9d7a45546c9b"
   },
   "outputs": [
    {
     "name": "stdout",
     "output_type": "stream",
     "text": [
      "0      1.01\n",
      "1      1.66\n",
      "2      3.50\n",
      "3      3.31\n",
      "4      3.61\n",
      "       ... \n",
      "239    5.92\n",
      "240    2.00\n",
      "241    2.00\n",
      "242    1.75\n",
      "243    3.00\n",
      "Name: tip, Length: 244, dtype: float64\n"
     ]
    }
   ],
   "source": [
    "print(tips.tip)\n",
    "# ou\n",
    "# print(tips['tip'])"
   ]
  },
  {
   "cell_type": "markdown",
   "metadata": {
    "id": "xwz8XkxrvciO"
   },
   "source": [
    "Esse conjunto de dados é um `pd.Series` e podemos fazer uma série de operações sobre essa coleção de dados, como calcular a soma ou a média de valores, como em um array `NumPy`."
   ]
  },
  {
   "cell_type": "code",
   "execution_count": null,
   "metadata": {
    "colab": {
     "base_uri": "https://localhost:8080/"
    },
    "id": "uXuI7u6tvb20",
    "outputId": "b2e12e7e-1033-4977-9613-64ce7ea3e7c2"
   },
   "outputs": [
    {
     "name": "stdout",
     "output_type": "stream",
     "text": [
      "Média das gorjetas: USD 3.00 e Total das gorjetas: USD 731.58\n"
     ]
    }
   ],
   "source": [
    "tip_series = tips['tip']\n",
    "print(f'Média das gorjetas: USD {tip_series.mean() :.2f} e Total das gorjetas: USD {tip_series.sum() :.2f}')"
   ]
  },
  {
   "cell_type": "markdown",
   "metadata": {
    "id": "nIXO54pUwKpL"
   },
   "source": [
    "Pode ser útil também você transformar uma `pd.Series` em uma lista `Python` para que você possa realizar operações de listas que você já conhece."
   ]
  },
  {
   "cell_type": "code",
   "execution_count": null,
   "metadata": {
    "colab": {
     "base_uri": "https://localhost:8080/"
    },
    "id": "wjxckq-twJni",
    "outputId": "bf154ada-fd1b-42f6-eb9f-bce4132c0b41"
   },
   "outputs": [
    {
     "data": {
      "text/plain": [
       "87"
      ]
     },
     "execution_count": 49,
     "metadata": {
      "tags": []
     },
     "output_type": "execute_result"
    }
   ],
   "source": [
    "dias = tips.day\n",
    "dias = dias.to_list()\n",
    "dias.count('Sat')"
   ]
  },
  {
   "cell_type": "markdown",
   "metadata": {
    "id": "GG_zHqt4lbUt"
   },
   "source": [
    "### Selecionando uma ou Mais Colunas como `pd.DataFrame`\n",
    "\n",
    "<img src=\"https://pandas.pydata.org/docs/_images/03_subset_columns.svg\" width=320, align=\"center\">\n",
    "\n",
    "Você pode estar também interessado na seleção de *mais que uma coluna* de dados. Para isso você pode simplesmente informar para o `Pandas` uma **lista de atributos** a serem selecionados.\n",
    "\n",
    "```\n",
    "\n",
    "df [ [ <lista-de-colunas> ] ]\n",
    "\n",
    "```\n",
    "\n",
    "Diferente da seleção anterior que retorna um Série do `Pandas`, a seleção neste formato, com uma ou mais colunas informadas em uma lista, retornará sempre um `DataFrame`, mesmo que você informe uma única coluna.\n",
    "\n"
   ]
  },
  {
   "cell_type": "markdown",
   "metadata": {
    "id": "4KgEBH0_4p04"
   },
   "source": [
    "A seleção como `DataFrame` permite a seleção de várias séries de dados (atributos) para construírmos subconjuntos dos dados. Essas seleções de dados retornam `DataFrames` e todas as operações sobre `DataFrames` são aplicáveis sobre essas seleções."
   ]
  },
  {
   "cell_type": "code",
   "execution_count": null,
   "metadata": {
    "colab": {
     "base_uri": "https://localhost:8080/"
    },
    "id": "ZQPgXL075TlJ",
    "outputId": "8998ab6f-cb00-4e3b-a852-221b0068c1c0"
   },
   "outputs": [
    {
     "data": {
      "text/plain": [
       "Index(['total_bill', 'tip', 'sex', 'smoker', 'day', 'time', 'size'], dtype='object')"
      ]
     },
     "execution_count": 50,
     "metadata": {
      "tags": []
     },
     "output_type": "execute_result"
    }
   ],
   "source": [
    "tips.columns"
   ]
  },
  {
   "cell_type": "code",
   "execution_count": null,
   "metadata": {
    "colab": {
     "base_uri": "https://localhost:8080/",
     "height": 204
    },
    "id": "oaASGjGn4nzn",
    "outputId": "4bd81ba2-c6cf-4ca8-ffbf-2ada46749f91"
   },
   "outputs": [
    {
     "data": {
      "text/html": [
       "<div>\n",
       "<style scoped>\n",
       "    .dataframe tbody tr th:only-of-type {\n",
       "        vertical-align: middle;\n",
       "    }\n",
       "\n",
       "    .dataframe tbody tr th {\n",
       "        vertical-align: top;\n",
       "    }\n",
       "\n",
       "    .dataframe thead th {\n",
       "        text-align: right;\n",
       "    }\n",
       "</style>\n",
       "<table border=\"1\" class=\"dataframe\">\n",
       "  <thead>\n",
       "    <tr style=\"text-align: right;\">\n",
       "      <th></th>\n",
       "      <th>total_bill</th>\n",
       "      <th>tip</th>\n",
       "      <th>size</th>\n",
       "    </tr>\n",
       "  </thead>\n",
       "  <tbody>\n",
       "    <tr>\n",
       "      <th>0</th>\n",
       "      <td>16.99</td>\n",
       "      <td>1.01</td>\n",
       "      <td>2</td>\n",
       "    </tr>\n",
       "    <tr>\n",
       "      <th>1</th>\n",
       "      <td>10.34</td>\n",
       "      <td>1.66</td>\n",
       "      <td>3</td>\n",
       "    </tr>\n",
       "    <tr>\n",
       "      <th>2</th>\n",
       "      <td>21.01</td>\n",
       "      <td>3.50</td>\n",
       "      <td>3</td>\n",
       "    </tr>\n",
       "    <tr>\n",
       "      <th>3</th>\n",
       "      <td>23.68</td>\n",
       "      <td>3.31</td>\n",
       "      <td>2</td>\n",
       "    </tr>\n",
       "    <tr>\n",
       "      <th>4</th>\n",
       "      <td>24.59</td>\n",
       "      <td>3.61</td>\n",
       "      <td>4</td>\n",
       "    </tr>\n",
       "  </tbody>\n",
       "</table>\n",
       "</div>"
      ],
      "text/plain": [
       "   total_bill   tip  size\n",
       "0       16.99  1.01     2\n",
       "1       10.34  1.66     3\n",
       "2       21.01  3.50     3\n",
       "3       23.68  3.31     2\n",
       "4       24.59  3.61     4"
      ]
     },
     "execution_count": 51,
     "metadata": {
      "tags": []
     },
     "output_type": "execute_result"
    }
   ],
   "source": [
    "selected_tips = tips[['total_bill', 'tip', 'size']]\n",
    "\n",
    "selected_tips.head() # um novo dataframe com atributos selecionados"
   ]
  },
  {
   "cell_type": "markdown",
   "metadata": {
    "id": "BRsdhyMP5zdj"
   },
   "source": [
    "$\\rightarrow$ *A seleção com uma ou mais colunas informadas em uma lista, retorna um `DataFrame`. Note que `df['tip']` retorna um `pd.Series`, enquanto, selecionar `df[['tip']]` retorna um `pd.DataFrame` de uma única coluna.*\n",
    "\n"
   ]
  },
  {
   "cell_type": "markdown",
   "metadata": {
    "id": "7lmI5A7U50Yx"
   },
   "source": [
    "De modo geral, você pode empreguar a seleção de `pd.Series` se quiser selecionar um único atributo, e empregar a seleção `pd.DataFrame` quando estiver interessado na criação de subconjuntos de dados."
   ]
  },
  {
   "cell_type": "markdown",
   "metadata": {
    "id": "qEzJ1rKO6q0g"
   },
   "source": [
    "### Selecionando Maiores e Menores\n",
    "\n",
    "Veremos mais adiante como fazer seleção de linhas, mas aqui já é oportuno vermos como selecionar linhas que contenham os maiores e os menores valores da coleção."
   ]
  },
  {
   "cell_type": "code",
   "execution_count": null,
   "metadata": {
    "colab": {
     "base_uri": "https://localhost:8080/",
     "height": 204
    },
    "id": "Hh0b1ooz6qIS",
    "outputId": "3921fe4c-fd60-43d1-bf05-3c847b30d98a"
   },
   "outputs": [
    {
     "data": {
      "text/html": [
       "<div>\n",
       "<style scoped>\n",
       "    .dataframe tbody tr th:only-of-type {\n",
       "        vertical-align: middle;\n",
       "    }\n",
       "\n",
       "    .dataframe tbody tr th {\n",
       "        vertical-align: top;\n",
       "    }\n",
       "\n",
       "    .dataframe thead th {\n",
       "        text-align: right;\n",
       "    }\n",
       "</style>\n",
       "<table border=\"1\" class=\"dataframe\">\n",
       "  <thead>\n",
       "    <tr style=\"text-align: right;\">\n",
       "      <th></th>\n",
       "      <th>total_bill</th>\n",
       "      <th>tip</th>\n",
       "      <th>sex</th>\n",
       "      <th>smoker</th>\n",
       "      <th>day</th>\n",
       "      <th>time</th>\n",
       "      <th>size</th>\n",
       "    </tr>\n",
       "  </thead>\n",
       "  <tbody>\n",
       "    <tr>\n",
       "      <th>67</th>\n",
       "      <td>3.07</td>\n",
       "      <td>1.00</td>\n",
       "      <td>Female</td>\n",
       "      <td>Yes</td>\n",
       "      <td>Sat</td>\n",
       "      <td>Dinner</td>\n",
       "      <td>1</td>\n",
       "    </tr>\n",
       "    <tr>\n",
       "      <th>92</th>\n",
       "      <td>5.75</td>\n",
       "      <td>1.00</td>\n",
       "      <td>Female</td>\n",
       "      <td>Yes</td>\n",
       "      <td>Fri</td>\n",
       "      <td>Dinner</td>\n",
       "      <td>2</td>\n",
       "    </tr>\n",
       "    <tr>\n",
       "      <th>111</th>\n",
       "      <td>7.25</td>\n",
       "      <td>1.00</td>\n",
       "      <td>Female</td>\n",
       "      <td>No</td>\n",
       "      <td>Sat</td>\n",
       "      <td>Dinner</td>\n",
       "      <td>1</td>\n",
       "    </tr>\n",
       "    <tr>\n",
       "      <th>172</th>\n",
       "      <td>7.25</td>\n",
       "      <td>5.15</td>\n",
       "      <td>Male</td>\n",
       "      <td>Yes</td>\n",
       "      <td>Sun</td>\n",
       "      <td>Dinner</td>\n",
       "      <td>2</td>\n",
       "    </tr>\n",
       "    <tr>\n",
       "      <th>149</th>\n",
       "      <td>7.51</td>\n",
       "      <td>2.00</td>\n",
       "      <td>Male</td>\n",
       "      <td>No</td>\n",
       "      <td>Thur</td>\n",
       "      <td>Lunch</td>\n",
       "      <td>2</td>\n",
       "    </tr>\n",
       "  </tbody>\n",
       "</table>\n",
       "</div>"
      ],
      "text/plain": [
       "     total_bill   tip     sex smoker   day    time  size\n",
       "67         3.07  1.00  Female    Yes   Sat  Dinner     1\n",
       "92         5.75  1.00  Female    Yes   Fri  Dinner     2\n",
       "111        7.25  1.00  Female     No   Sat  Dinner     1\n",
       "172        7.25  5.15    Male    Yes   Sun  Dinner     2\n",
       "149        7.51  2.00    Male     No  Thur   Lunch     2"
      ]
     },
     "execution_count": 52,
     "metadata": {
      "tags": []
     },
     "output_type": "execute_result"
    }
   ],
   "source": [
    "tips.nsmallest(5,'total_bill')"
   ]
  },
  {
   "cell_type": "code",
   "execution_count": null,
   "metadata": {
    "colab": {
     "base_uri": "https://localhost:8080/",
     "height": 142
    },
    "id": "hh4zE0Vl7E-E",
    "outputId": "e6d63268-e448-449d-c3d0-2dc56fbe20ad"
   },
   "outputs": [
    {
     "data": {
      "text/html": [
       "<div>\n",
       "<style scoped>\n",
       "    .dataframe tbody tr th:only-of-type {\n",
       "        vertical-align: middle;\n",
       "    }\n",
       "\n",
       "    .dataframe tbody tr th {\n",
       "        vertical-align: top;\n",
       "    }\n",
       "\n",
       "    .dataframe thead th {\n",
       "        text-align: right;\n",
       "    }\n",
       "</style>\n",
       "<table border=\"1\" class=\"dataframe\">\n",
       "  <thead>\n",
       "    <tr style=\"text-align: right;\">\n",
       "      <th></th>\n",
       "      <th>total_bill</th>\n",
       "      <th>tip</th>\n",
       "      <th>sex</th>\n",
       "      <th>smoker</th>\n",
       "      <th>day</th>\n",
       "      <th>time</th>\n",
       "      <th>size</th>\n",
       "    </tr>\n",
       "  </thead>\n",
       "  <tbody>\n",
       "    <tr>\n",
       "      <th>170</th>\n",
       "      <td>50.81</td>\n",
       "      <td>10.00</td>\n",
       "      <td>Male</td>\n",
       "      <td>Yes</td>\n",
       "      <td>Sat</td>\n",
       "      <td>Dinner</td>\n",
       "      <td>3</td>\n",
       "    </tr>\n",
       "    <tr>\n",
       "      <th>212</th>\n",
       "      <td>48.33</td>\n",
       "      <td>9.00</td>\n",
       "      <td>Male</td>\n",
       "      <td>No</td>\n",
       "      <td>Sat</td>\n",
       "      <td>Dinner</td>\n",
       "      <td>4</td>\n",
       "    </tr>\n",
       "    <tr>\n",
       "      <th>59</th>\n",
       "      <td>48.27</td>\n",
       "      <td>6.73</td>\n",
       "      <td>Male</td>\n",
       "      <td>No</td>\n",
       "      <td>Sat</td>\n",
       "      <td>Dinner</td>\n",
       "      <td>4</td>\n",
       "    </tr>\n",
       "  </tbody>\n",
       "</table>\n",
       "</div>"
      ],
      "text/plain": [
       "     total_bill    tip   sex smoker  day    time  size\n",
       "170       50.81  10.00  Male    Yes  Sat  Dinner     3\n",
       "212       48.33   9.00  Male     No  Sat  Dinner     4\n",
       "59        48.27   6.73  Male     No  Sat  Dinner     4"
      ]
     },
     "execution_count": 53,
     "metadata": {
      "tags": []
     },
     "output_type": "execute_result"
    }
   ],
   "source": [
    "tips_top3 = tips.nlargest(3,'total_bill')\n",
    "tips_top3"
   ]
  },
  {
   "cell_type": "markdown",
   "metadata": {
    "id": "o393yrTc79_W"
   },
   "source": [
    "### Alterando e Incluindo Colunas de Dados\n",
    "\n",
    "Muitas vezes é necessário você criar atributos derivados a partir dos dados originais, como converter valores para R\\$ , criar um atributo com o valor das contas descontando a gorjeta ou o valor da conta dividido pelos participantes da mesa. A exemplo do `NumPy`, essa é uma grande facilidade do `Pandas` que, sendo orientado a colunas,  permite realizar operações sobre uma coluna de dados (ou mesmo toda a coleção) sem a necessidade de iterações ou laços de programa."
   ]
  },
  {
   "cell_type": "code",
   "execution_count": null,
   "metadata": {
    "colab": {
     "base_uri": "https://localhost:8080/",
     "height": 204
    },
    "id": "FCX6WInh9E23",
    "outputId": "28806783-3759-4fbd-9202-5aaf43981a5a"
   },
   "outputs": [
    {
     "data": {
      "text/html": [
       "<div>\n",
       "<style scoped>\n",
       "    .dataframe tbody tr th:only-of-type {\n",
       "        vertical-align: middle;\n",
       "    }\n",
       "\n",
       "    .dataframe tbody tr th {\n",
       "        vertical-align: top;\n",
       "    }\n",
       "\n",
       "    .dataframe thead th {\n",
       "        text-align: right;\n",
       "    }\n",
       "</style>\n",
       "<table border=\"1\" class=\"dataframe\">\n",
       "  <thead>\n",
       "    <tr style=\"text-align: right;\">\n",
       "      <th></th>\n",
       "      <th>total_bill</th>\n",
       "      <th>tip</th>\n",
       "      <th>sex</th>\n",
       "      <th>smoker</th>\n",
       "      <th>day</th>\n",
       "      <th>time</th>\n",
       "      <th>size</th>\n",
       "      <th>total_bill_minus_tips</th>\n",
       "      <th>bill_by_head</th>\n",
       "    </tr>\n",
       "  </thead>\n",
       "  <tbody>\n",
       "    <tr>\n",
       "      <th>0</th>\n",
       "      <td>98.542</td>\n",
       "      <td>5.858</td>\n",
       "      <td>Female</td>\n",
       "      <td>No</td>\n",
       "      <td>Sun</td>\n",
       "      <td>Dinner</td>\n",
       "      <td>2</td>\n",
       "      <td>92.684</td>\n",
       "      <td>49.271000</td>\n",
       "    </tr>\n",
       "    <tr>\n",
       "      <th>1</th>\n",
       "      <td>59.972</td>\n",
       "      <td>9.628</td>\n",
       "      <td>Male</td>\n",
       "      <td>No</td>\n",
       "      <td>Sun</td>\n",
       "      <td>Dinner</td>\n",
       "      <td>3</td>\n",
       "      <td>50.344</td>\n",
       "      <td>19.990667</td>\n",
       "    </tr>\n",
       "    <tr>\n",
       "      <th>2</th>\n",
       "      <td>121.858</td>\n",
       "      <td>20.300</td>\n",
       "      <td>Male</td>\n",
       "      <td>No</td>\n",
       "      <td>Sun</td>\n",
       "      <td>Dinner</td>\n",
       "      <td>3</td>\n",
       "      <td>101.558</td>\n",
       "      <td>40.619333</td>\n",
       "    </tr>\n",
       "    <tr>\n",
       "      <th>3</th>\n",
       "      <td>137.344</td>\n",
       "      <td>19.198</td>\n",
       "      <td>Male</td>\n",
       "      <td>No</td>\n",
       "      <td>Sun</td>\n",
       "      <td>Dinner</td>\n",
       "      <td>2</td>\n",
       "      <td>118.146</td>\n",
       "      <td>68.672000</td>\n",
       "    </tr>\n",
       "    <tr>\n",
       "      <th>4</th>\n",
       "      <td>142.622</td>\n",
       "      <td>20.938</td>\n",
       "      <td>Female</td>\n",
       "      <td>No</td>\n",
       "      <td>Sun</td>\n",
       "      <td>Dinner</td>\n",
       "      <td>4</td>\n",
       "      <td>121.684</td>\n",
       "      <td>35.655500</td>\n",
       "    </tr>\n",
       "  </tbody>\n",
       "</table>\n",
       "</div>"
      ],
      "text/plain": [
       "   total_bill     tip     sex  ... size total_bill_minus_tips bill_by_head\n",
       "0      98.542   5.858  Female  ...    2                92.684    49.271000\n",
       "1      59.972   9.628    Male  ...    3                50.344    19.990667\n",
       "2     121.858  20.300    Male  ...    3               101.558    40.619333\n",
       "3     137.344  19.198    Male  ...    2               118.146    68.672000\n",
       "4     142.622  20.938  Female  ...    4               121.684    35.655500\n",
       "\n",
       "[5 rows x 9 columns]"
      ]
     },
     "execution_count": 54,
     "metadata": {
      "tags": []
     },
     "output_type": "execute_result"
    }
   ],
   "source": [
    "dolar_real_rate = 5.8\n",
    "tips['total_bill'] = tips['total_bill'] * dolar_real_rate         # alterando\n",
    "tips['tip'] = tips['tip'] * dolar_real_rate                       # alterando\n",
    "\n",
    "tips['total_bill_minus_tips'] = tips['total_bill'] - tips['tip']    # incluindo um novo atributo\n",
    "tips['bill_by_head'] = tips['total_bill'] / tips['size']            # incluindo um novo atributo\n",
    "tips.head()"
   ]
  },
  {
   "cell_type": "markdown",
   "metadata": {
    "id": "tdhcbRo5ntzV"
   },
   "source": [
    "### Selecionar Linhas\n",
    "\n",
    "<img src=\"https://pandas.pydata.org/docs/_images/03_subset_rows.svg\" width=320, align=\"center\">\n",
    "\n",
    "A seleção de linhas é mais interessante por que podemos especificar condições para os valores que buscamos. Por exemplo, você pode selecionar o tipo de peças que deseja ver em um `DataFrame` com dados de vários componentes, ou selecionar as unidades de fábrica de uma certa cidade que você deseja verificar a produção.\n",
    "\n",
    "A seleção é um predicado lógico,  \n",
    "\n",
    "```\n",
    "df [ <critério de seleção> ]\n",
    "```\n",
    "\n",
    "Exemplos\n",
    "\n",
    "```\n",
    "df [ nome_coluna == valor ]\n",
    "df [ nome_coluna != valor ]\n",
    "df [ nome_coluna > valor ]\n",
    "```"
   ]
  },
  {
   "cell_type": "markdown",
   "metadata": {
    "id": "MDLzlemMIOcB"
   },
   "source": [
    "Podemos, assim, selecionar os dados somente de não fumantes ou fumantes:"
   ]
  },
  {
   "cell_type": "code",
   "execution_count": null,
   "metadata": {
    "id": "eaOZRmZWns9a"
   },
   "outputs": [],
   "source": [
    "tips_nao_fumantes = tips[ tips.smoker == 'No' ]\n",
    "tips_fumantes = tips[ tips.smoker == 'Yes' ]"
   ]
  },
  {
   "cell_type": "markdown",
   "metadata": {
    "id": "AWXIM91FrMkH"
   },
   "source": [
    "### Seleção de Linhas e Colunas\n",
    "\n",
    "<img src=\"https://pandas.pydata.org/docs/_images/03_subset_columns_rows.svg\" width=320, align=\"center\">\n",
    "\n",
    "O uso mais geral das seleções é o de seleções conjuntas de linhas e colunas de dados, e nos referimos a esse subconjunto dos dados de *slice* (fatia) dos dados.\n",
    "\n",
    "Seguindo uma boa prática sempre faremos primeiro a seleção das linhas,\n",
    "\n",
    "```\n",
    "df [ <critério de seleção> ] ...\n",
    "\n",
    "...Selecionando uma coluna\n",
    "df [ <critério de seleção> ].nome_coluna                  pd.Series\n",
    "df [ <critério de seleção> ]['nome_coluna']\n",
    "\n",
    "...Selecionando uma ou mais colunas\n",
    "df [ <critério de seleção> ][ [<lista-de-colunas>] ]      pd.DataFrame\n",
    "\n",
    "```\n"
   ]
  },
  {
   "cell_type": "markdown",
   "metadata": {
    "id": "b-yTIEivJv-K"
   },
   "source": [
    "Com isso podemos fazer inúmeras seleções de dados que temos interesse em visualizar ou analisar, e responder a muitas perguntas sobre os dados."
   ]
  },
  {
   "cell_type": "markdown",
   "metadata": {
    "id": "RuHSo-GdIbHJ"
   },
   "source": [
    "- **Qual a proporção de Clientes Fumantes?**"
   ]
  },
  {
   "cell_type": "code",
   "execution_count": null,
   "metadata": {
    "colab": {
     "base_uri": "https://localhost:8080/"
    },
    "id": "EukjeLxs_jL4",
    "outputId": "03875f0c-a5d3-41ba-947d-08944d497c71"
   },
   "outputs": [
    {
     "name": "stdout",
     "output_type": "stream",
     "text": [
      "Percentual de Clientes Fumantes 0.38 %\n"
     ]
    }
   ],
   "source": [
    "print(f'Percentual de Clientes Fumantes {len( tips_fumantes ) / len( tips ) :.2f} %')"
   ]
  },
  {
   "cell_type": "markdown",
   "metadata": {
    "id": "K0zJ7f0gsDHb"
   },
   "source": [
    "- **Fumantes ou Mulheres, pagam mais gorjeta (em média) ?**"
   ]
  },
  {
   "cell_type": "code",
   "execution_count": null,
   "metadata": {
    "colab": {
     "base_uri": "https://localhost:8080/"
    },
    "id": "pihtXjD1r9Qn",
    "outputId": "bc55096d-c0c4-4a17-a282-a63714d13312"
   },
   "outputs": [
    {
     "data": {
      "text/plain": [
       "True"
      ]
     },
     "execution_count": 63,
     "metadata": {
      "tags": []
     },
     "output_type": "execute_result"
    }
   ],
   "source": [
    "tips[ tips.smoker == 'Yes' ]['tip'].mean() > tips[ tips.smoker == 'No' ]['tip'].mean()"
   ]
  },
  {
   "cell_type": "code",
   "execution_count": null,
   "metadata": {
    "colab": {
     "base_uri": "https://localhost:8080/"
    },
    "id": "P25kOuvjAR07",
    "outputId": "67e4a9f3-2255-4ef0-f1b3-a3ec1f9d1b1e"
   },
   "outputs": [
    {
     "data": {
      "text/plain": [
       "False"
      ]
     },
     "execution_count": 65,
     "metadata": {
      "tags": []
     },
     "output_type": "execute_result"
    }
   ],
   "source": [
    "tips[ tips.sex == 'Female' ]['tip'].mean() > tips[ tips.sex == 'Male' ]['tip'].mean()"
   ]
  },
  {
   "cell_type": "markdown",
   "metadata": {
    "id": "hsUjNahCA0W9"
   },
   "source": [
    "As selecões e criação desses subconjuntos de dados, como você poderá ver, têm um papel muito importante na construção de visualizações e entendimento dos dados pois, em muitos casos, recorremos a esses subconjuntos para produzir as visualizações, como no exemplo abaixo, em que observamos os valores das gorjetas de homens e mulheres."
   ]
  },
  {
   "cell_type": "code",
   "execution_count": null,
   "metadata": {
    "colab": {
     "base_uri": "https://localhost:8080/",
     "height": 296
    },
    "id": "9l_-Ig1HA8ji",
    "outputId": "d5fa0508-0f78-463a-eafb-f21820189eb1"
   },
   "outputs": [
    {
     "data": {
      "image/png": "[encoded data removed]",
      "text/plain": [
       "<Figure size 432x288 with 1 Axes>"
      ]
     },
     "metadata": {
      "needs_background": "light",
      "tags": []
     },
     "output_type": "display_data"
    }
   ],
   "source": [
    "import matplotlib.pyplot as plt\n",
    "plt.hist(tips[ tips.sex == 'Male' ]['tip'], label='Homens')\n",
    "plt.hist(tips[ tips.sex == 'Female' ]['tip'], label='Mulheres')\n",
    "\n",
    "plt.xlabel('Valor das Gorjetas')\n",
    "plt.ylabel('Quantidades Pagas')\n",
    "plt.title('Distribuição das Gorjetas', fontsize=14, weight='bold')\n",
    "plt.legend(title='$\\\\bf{Gorjetas}$')\n",
    "plt.show()"
   ]
  },
  {
   "cell_type": "markdown",
   "metadata": {
    "id": "EBRZgUtswHcp"
   },
   "source": [
    "O `Pandas` ainda conta com uma série de operações para manipulação e transformação dos dados como funções de joins e merge de tabelas, groupby etc. empregaremos eventualmente essas operações ao longo do texto e para maiores detalhes você poderá consultar a documentação do `Pandas` ou outras referências online."
   ]
  }
 ],
 "metadata": {
  "colab": {
   "collapsed_sections": [
    "BZMmkF32xYEt",
    "bBO8cKayouUr"
   ],
   "name": "c0_parte_1.ipynb",
   "provenance": []
  },
  "kernelspec": {
   "display_name": "Python 3 (ipykernel)",
   "language": "python",
   "name": "python3"
  },
  "language_info": {
   "codemirror_mode": {
    "name": "ipython",
    "version": 3
   },
   "file_extension": ".py",
   "mimetype": "text/x-python",
   "name": "python",
   "nbconvert_exporter": "python",
   "pygments_lexer": "ipython3",
   "version": "3.9.12"
  }
 },
 "nbformat": 4,
 "nbformat_minor": 1
}
