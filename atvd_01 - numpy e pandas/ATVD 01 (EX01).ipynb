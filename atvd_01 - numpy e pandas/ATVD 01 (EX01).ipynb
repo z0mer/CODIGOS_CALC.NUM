{
 "cells": [
  {
   "cell_type": "code",
   "execution_count": 14,
   "id": "55f91581",
   "metadata": {
    "scrolled": true
   },
   "outputs": [
    {
     "name": "stdout",
     "output_type": "stream",
     "text": [
      "f(1) = -1/cos(1)\n"
     ]
    }
   ],
   "source": [
    "#ALTERNATIVA A\n",
    "\n",
    "from sympy import *\n",
    "\n",
    "# definir os símbolos usados\n",
    "x = symbols('x')\n",
    "\n",
    "# definir a função\n",
    "expr = (x**2 - 2*x) / cos(x)\n",
    "\n",
    "# calcular f(1)\n",
    "f_1 = expr.subs(x, 1)\n",
    "print(\"f(1) =\", f_1)"
   ]
  },
  {
   "cell_type": "code",
   "execution_count": 15,
   "id": "3fea4f11",
   "metadata": {
    "scrolled": true
   },
   "outputs": [
    {
     "name": "stdout",
     "output_type": "stream",
     "text": [
      "-69.1\n"
     ]
    }
   ],
   "source": [
    "#ALTERNATIVA B\n",
    "\n",
    "from sympy import *\n",
    "\n",
    "#definir os símbolos usados\n",
    "x=symbols('x')\n",
    "\n",
    "#definir a função\n",
    "expr=(x**2 - 2*x)/cos(x)\n",
    "\n",
    "#calcular o limite\n",
    "r=limit(expr,x,9)\n",
    "print(\"%.1f\" %r)"
   ]
  },
  {
   "cell_type": "code",
   "execution_count": 16,
   "id": "ec9c7392",
   "metadata": {},
   "outputs": [
    {
     "name": "stdout",
     "output_type": "stream",
     "text": [
      "(2*x - 2)/cos(x) + (x**2 - 2*x)*sin(x)/cos(x)**2\n"
     ]
    }
   ],
   "source": [
    "#ALTERNATIVA C\n",
    "\n",
    "eq=(x**2 - 2*x)/(cos(x))\n",
    "\n",
    "r=diff(eq,x,1)\n",
    "print(r)"
   ]
  }
 ],
 "metadata": {
  "kernelspec": {
   "display_name": "Python 3 (ipykernel)",
   "language": "python",
   "name": "python3"
  },
  "language_info": {
   "codemirror_mode": {
    "name": "ipython",
    "version": 3
   },
   "file_extension": ".py",
   "mimetype": "text/x-python",
   "name": "python",
   "nbconvert_exporter": "python",
   "pygments_lexer": "ipython3",
   "version": "3.9.13"
  }
 },
 "nbformat": 4,
 "nbformat_minor": 5
}
