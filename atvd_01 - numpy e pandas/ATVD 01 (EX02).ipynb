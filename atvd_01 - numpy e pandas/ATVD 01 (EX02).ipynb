{
 "cells": [
  {
   "cell_type": "code",
   "execution_count": 1,
   "id": "d076297d",
   "metadata": {},
   "outputs": [
    {
     "name": "stdout",
     "output_type": "stream",
     "text": [
      "A=\n",
      " [[1 0 1]\n",
      " [1 2 3]\n",
      " [1 2 4]]\n",
      "B=\n",
      " [[3 1 4]\n",
      " [1 2 1]\n",
      " [3 1 1]]\n"
     ]
    }
   ],
   "source": [
    "import numpy as np\n",
    "A=np.array([[1,0,1],[1,2,3],[1,2,4]])\n",
    "print('A=\\n',A)\n",
    "B=np.array([[3,1,4],[1,2,1],[3,1,1]])\n",
    "print('B=\\n',B)"
   ]
  },
  {
   "cell_type": "code",
   "execution_count": 2,
   "id": "0da3af5f",
   "metadata": {},
   "outputs": [
    {
     "name": "stdout",
     "output_type": "stream",
     "text": [
      "2.00\n"
     ]
    }
   ],
   "source": [
    "#ALTERNATIVA A\n",
    "\n",
    "det=np.linalg.det(A)\n",
    "print('%.2f'% det)"
   ]
  },
  {
   "cell_type": "code",
   "execution_count": 4,
   "id": "d0289aa5",
   "metadata": {},
   "outputs": [
    {
     "name": "stdout",
     "output_type": "stream",
     "text": [
      "[[-0.06666667 -0.2         0.46666667]\n",
      " [-0.13333333  0.6        -0.06666667]\n",
      " [ 0.33333333 -0.         -0.33333333]]\n"
     ]
    }
   ],
   "source": [
    "#ALTERNATIVA B\n",
    "\n",
    "inv=np.linalg.inv(B)\n",
    "print(inv)"
   ]
  },
  {
   "cell_type": "code",
   "execution_count": 5,
   "id": "4ec96182",
   "metadata": {},
   "outputs": [
    {
     "name": "stdout",
     "output_type": "stream",
     "text": [
      "[[1 1 1]\n",
      " [0 2 2]\n",
      " [1 3 4]]\n",
      "(3, 3)\n"
     ]
    }
   ],
   "source": [
    "#ALTERNATIVA C\n",
    "\n",
    "a_transposta = A.T\n",
    "print(a_transposta)\n",
    "print(a_transposta.shape)"
   ]
  },
  {
   "cell_type": "code",
   "execution_count": 7,
   "id": "39b467a4",
   "metadata": {},
   "outputs": [
    {
     "name": "stdout",
     "output_type": "stream",
     "text": [
      "D=\n",
      " [[ 6  2  5]\n",
      " [14  8  9]\n",
      " [17  9 10]]\n"
     ]
    }
   ],
   "source": [
    "#ALTERNATIVA D\n",
    "\n",
    "D=np.dot(A,B)\n",
    "print('D=\\n',D)"
   ]
  },
  {
   "cell_type": "code",
   "execution_count": 10,
   "id": "dd898ece",
   "metadata": {
    "scrolled": true
   },
   "outputs": [
    {
     "name": "stdout",
     "output_type": "stream",
     "text": [
      "E=\n",
      " [[-11  -4 -15]\n",
      " [ -3  -6  -1]\n",
      " [-11  -2   0]]\n"
     ]
    }
   ],
   "source": [
    "#ALTERNATIVA E\n",
    "\n",
    "E=A-4*B\n",
    "print('E=\\n',E)"
   ]
  },
  {
   "cell_type": "code",
   "execution_count": null,
   "id": "e7ffa7cf",
   "metadata": {},
   "outputs": [],
   "source": []
  }
 ],
 "metadata": {
  "kernelspec": {
   "display_name": "Python 3 (ipykernel)",
   "language": "python",
   "name": "python3"
  },
  "language_info": {
   "codemirror_mode": {
    "name": "ipython",
    "version": 3
   },
   "file_extension": ".py",
   "mimetype": "text/x-python",
   "name": "python",
   "nbconvert_exporter": "python",
   "pygments_lexer": "ipython3",
   "version": "3.9.13"
  }
 },
 "nbformat": 4,
 "nbformat_minor": 5
}
