{
 "cells": [
  {
   "cell_type": "code",
   "execution_count": 13,
   "id": "59547080",
   "metadata": {},
   "outputs": [
    {
     "name": "stdout",
     "output_type": "stream",
     "text": [
      "            3           2\n",
      "-5.167e-05 x + 0.00305 x - 0.01733 x + 0.11\n"
     ]
    },
    {
     "data": {
      "text/plain": [
       "array([-5.16666667e-05,  3.05000000e-03, -1.73333333e-02,  1.10000000e-01])"
      ]
     },
     "execution_count": 13,
     "metadata": {},
     "output_type": "execute_result"
    }
   ],
   "source": [
    "import sympy as sy\n",
    "import numpy as np\n",
    "from scipy.interpolate import lagrange\n",
    "from numpy.polynomial.polynomial import Polynomial\n",
    "from scipy.interpolate import lagrange\n",
    "x=[10,20,30,40]       \n",
    "y=[0.19, 0.57,0.94,0.99]  \n",
    "x = np.array(x)\n",
    "y = np.array(y)\n",
    "poly = lagrange(x, y)\n",
    "print(poly)\n",
    "Polynomial(poly).coef"
   ]
  },
  {
   "cell_type": "code",
   "execution_count": 14,
   "id": "691bc795",
   "metadata": {},
   "outputs": [
    {
     "data": {
      "text/plain": [
       "0.7756249999999959"
      ]
     },
     "execution_count": 14,
     "metadata": {},
     "output_type": "execute_result"
    }
   ],
   "source": [
    "poly(25)"
   ]
  },
  {
   "cell_type": "code",
   "execution_count": 16,
   "id": "f0fc1c26",
   "metadata": {},
   "outputs": [
    {
     "name": "stdout",
     "output_type": "stream",
     "text": [
      "0.965\n"
     ]
    }
   ],
   "source": [
    "import numpy as np\n",
    "xp = [10,20,30,40]\n",
    "fp = [0.19, 0.57,0.94,0.99] \n",
    "print(np.interp(35, xp, fp))"
   ]
  },
  {
   "cell_type": "code",
   "execution_count": 19,
   "id": "42dc4aae",
   "metadata": {},
   "outputs": [
    {
     "data": {
      "text/plain": [
       "1.0243749999999934"
      ]
     },
     "execution_count": 19,
     "metadata": {},
     "output_type": "execute_result"
    }
   ],
   "source": [
    "poly(35)"
   ]
  },
  {
   "cell_type": "code",
   "execution_count": 20,
   "id": "e2d30ddc",
   "metadata": {},
   "outputs": [
    {
     "data": {
      "text/plain": [
       "array([ 41.19225594,  30.80498407, -12.96498195])"
      ]
     },
     "execution_count": 20,
     "metadata": {},
     "output_type": "execute_result"
    }
   ],
   "source": [
    "np.roots(poly-0.96)"
   ]
  },
  {
   "cell_type": "code",
   "execution_count": null,
   "id": "f3b5008e",
   "metadata": {},
   "outputs": [],
   "source": []
  }
 ],
 "metadata": {
  "kernelspec": {
   "display_name": "Python 3 (ipykernel)",
   "language": "python",
   "name": "python3"
  },
  "language_info": {
   "codemirror_mode": {
    "name": "ipython",
    "version": 3
   },
   "file_extension": ".py",
   "mimetype": "text/x-python",
   "name": "python",
   "nbconvert_exporter": "python",
   "pygments_lexer": "ipython3",
   "version": "3.9.13"
  }
 },
 "nbformat": 4,
 "nbformat_minor": 5
}
