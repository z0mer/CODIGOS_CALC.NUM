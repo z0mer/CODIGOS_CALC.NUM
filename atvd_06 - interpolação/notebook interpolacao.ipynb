{
 "cells": [
  {
   "cell_type": "markdown",
   "metadata": {},
   "source": [
    "## Interpolação Linear com todos os pontos"
   ]
  },
  {
   "cell_type": "code",
   "execution_count": 2,
   "metadata": {},
   "outputs": [
    {
     "name": "stdout",
     "output_type": "stream",
     "text": [
      "[24.5 24.6]\n"
     ]
    },
    {
     "data": {
      "text/plain": [
       "115.25000000000001"
      ]
     },
     "execution_count": 2,
     "metadata": {},
     "output_type": "execute_result"
    }
   ],
   "source": [
    "import sympy as sy\n",
    "import numpy as np\n",
    "from scipy.interpolate import lagrange\n",
    "from numpy.polynomial.polynomial import Polynomial\n",
    "x=[0,1,2,3,4]\n",
    "y=[32,47,65,92,132]\n",
    "x = np.array(x)\n",
    "y = np.array(y)\n",
    "# valor 1 representa o grau do polinomio\n",
    "z = np.polyfit(x, y, 1)\n",
    "print(z)\n",
    "p = np.poly1d(z)\n",
    "p(3.7)\n"
   ]
  },
  {
   "cell_type": "markdown",
   "metadata": {},
   "source": [
    "## Interpolação Linear com dois pontos"
   ]
  },
  {
   "cell_type": "code",
   "execution_count": 3,
   "metadata": {},
   "outputs": [
    {
     "name": "stdout",
     "output_type": "stream",
     "text": [
      "[ 40. -28.]\n"
     ]
    },
    {
     "data": {
      "text/plain": [
       "119.99999999999994"
      ]
     },
     "execution_count": 3,
     "metadata": {},
     "output_type": "execute_result"
    }
   ],
   "source": [
    "x=[3,4]\n",
    "y=[92,132]\n",
    "x = np.array(x)\n",
    "y = np.array(y)\n",
    "z = np.polyfit(x, y, 1)\n",
    "print(z)\n",
    "p = np.poly1d(z)\n",
    "p(3.7)"
   ]
  },
  {
   "cell_type": "markdown",
   "metadata": {},
   "source": [
    "## Interpolação de Lagrange"
   ]
  },
  {
   "cell_type": "code",
   "execution_count": 4,
   "metadata": {
    "scrolled": true
   },
   "outputs": [
    {
     "data": {
      "text/plain": [
       "array([ 2.05 , -1.675,  2.382])"
      ]
     },
     "execution_count": 4,
     "metadata": {},
     "output_type": "execute_result"
    }
   ],
   "source": [
    "import sympy as sy\n",
    "import numpy as np\n",
    "from scipy.interpolate import lagrange\n",
    "from numpy.polynomial.polynomial import Polynomial\n",
    "from scipy.interpolate import lagrange\n",
    "x=[1.3,1.4,1.5]       \n",
    "y=[3.669, 4.055,4.482]  \n",
    "x = np.array(x)\n",
    "y = np.array(y)\n",
    "poly = lagrange(x, y)\n",
    "Polynomial(poly).coef\n"
   ]
  },
  {
   "cell_type": "code",
   "execution_count": 5,
   "metadata": {},
   "outputs": [
    {
     "data": {
      "text/plain": [
       "3.7429200000001357"
      ]
     },
     "execution_count": 5,
     "metadata": {},
     "output_type": "execute_result"
    }
   ],
   "source": [
    "poly(1.32)"
   ]
  },
  {
   "cell_type": "code",
   "execution_count": 6,
   "metadata": {},
   "outputs": [
    {
     "data": {
      "image/png": "[encoded data removed]",
      "text/plain": [
       "<Figure size 432x288 with 1 Axes>"
      ]
     },
     "metadata": {
      "needs_background": "light"
     },
     "output_type": "display_data"
    }
   ],
   "source": [
    "import matplotlib.pyplot as plt\n",
    "p = np.poly1d(np.polyfit(x, y, 2)) \n",
    "t = np.linspace(0, 4, 20) \n",
    "plt.plot(x, y, 'o', t, p(t), '-') \n",
    "plt.show() "
   ]
  },
  {
   "cell_type": "markdown",
   "metadata": {},
   "source": [
    "## Interpolação com interp"
   ]
  },
  {
   "cell_type": "code",
   "execution_count": 1,
   "metadata": {},
   "outputs": [
    {
     "name": "stdout",
     "output_type": "stream",
     "text": [
      "11.7\n",
      "15.3\n"
     ]
    }
   ],
   "source": [
    "import numpy as np\n",
    "xp = [1, 7, 14]\n",
    "fp = [10.5, 17.7, 35.2]\n",
    "print(np.interp(2, xp, fp))\n",
    "print(np.interp(5, xp, fp))\n"
   ]
  },
  {
   "cell_type": "code",
   "execution_count": 8,
   "metadata": {},
   "outputs": [
    {
     "data": {
      "text/plain": [
       "0.14444444444444393"
      ]
     },
     "execution_count": 8,
     "metadata": {},
     "output_type": "execute_result"
    }
   ],
   "source": [
    "import sympy as sy\n",
    "import numpy as np\n",
    "from scipy.interpolate import lagrange\n",
    "from scipy.interpolate import lagrange\n",
    "from numpy.polynomial.polynomial import Polynomial\n",
    "x=[16, 40, 64]       \n",
    "y=[4.1, 0.6, 0.3]  \n",
    "x = np.array(x)\n",
    "y = np.array(y)\n",
    "poly = lagrange(x, y)\n",
    "Polynomial(poly).coef\n",
    "poly(48)"
   ]
  },
  {
   "cell_type": "code",
   "execution_count": 9,
   "metadata": {},
   "outputs": [
    {
     "name": "stdout",
     "output_type": "stream",
     "text": [
      "[-8.79107189e-08  1.82854295e-05  1.47810571e-03 -2.65110597e-01\n",
      "  7.89423868e+00]\n"
     ]
    },
    {
     "data": {
      "text/plain": [
       "0.1300411522633702"
      ]
     },
     "execution_count": 9,
     "metadata": {},
     "output_type": "execute_result"
    }
   ],
   "source": [
    "x=[16, 40, 64, 88, 112]\n",
    "y=[4.1, 0.6, 0.3, 3.2, 8.6]\n",
    "x = np.array(x)\n",
    "y = np.array(y)\n",
    "z = np.polyfit(x, y, 4)\n",
    "print(z)\n",
    "p = np.poly1d(z)\n",
    "p(48)\n"
   ]
  },
  {
   "cell_type": "code",
   "execution_count": 10,
   "metadata": {},
   "outputs": [
    {
     "name": "stdout",
     "output_type": "stream",
     "text": [
      "6.835809012204996\n"
     ]
    },
    {
     "data": {
      "text/plain": [
       "array([ 229.02905516, -129.57600946,   83.90418413,   24.64277017])"
      ]
     },
     "execution_count": 10,
     "metadata": {},
     "output_type": "execute_result"
    }
   ],
   "source": [
    "print(p(105))\n",
    "np.roots(p-2.5)\n"
   ]
  },
  {
   "cell_type": "code",
   "execution_count": 11,
   "metadata": {},
   "outputs": [
    {
     "data": {
      "image/png": "[encoded data removed]",
      "text/plain": [
       "<Figure size 432x288 with 1 Axes>"
      ]
     },
     "metadata": {
      "needs_background": "light"
     },
     "output_type": "display_data"
    }
   ],
   "source": [
    "import matplotlib.pyplot as plt\n",
    "import numpy as np\n",
    "p = np.poly1d(np.polyfit(x, y, 4)) \n",
    "t = np.linspace(0, 140, 200) \n",
    "plt.plot(x, y, 'o', t, p(t), '-') \n",
    "plt.show() \n"
   ]
  },
  {
   "cell_type": "markdown",
   "metadata": {},
   "source": [
    "## Regressão Polinomial"
   ]
  },
  {
   "cell_type": "code",
   "execution_count": 12,
   "metadata": {},
   "outputs": [
    {
     "name": "stdout",
     "output_type": "stream",
     "text": [
      "[ 7.89423868e+00 -2.65110597e-01  1.47810571e-03  1.82854295e-05\n",
      " -8.79107189e-08]\n",
      "[0.13004115]\n"
     ]
    }
   ],
   "source": [
    "import numpy as np\n",
    "from sklearn.preprocessing import PolynomialFeatures\n",
    "from sklearn.linear_model import LinearRegression\n",
    "from sklearn.pipeline import make_pipeline\n",
    "x=[16, 40, 64, 88, 112]\n",
    "y=[4.1, 0.6, 0.3, 3.2, 8.6]\n",
    "\n",
    "X = np.array(x).reshape(-1, 1)\n",
    "y = np.array([4.1, 0.6, 0.3, 3.2, 8.6])\n",
    "model = make_pipeline(PolynomialFeatures(degree=4), LinearRegression(fit_intercept = False))\n",
    "model.fit(X,y)\n",
    "X_predict = np.array([[48]])\n",
    "print(model.named_steps.linearregression.coef_)\n",
    "print(model.predict(X_predict))"
   ]
  },
  {
   "cell_type": "code",
   "execution_count": 13,
   "metadata": {},
   "outputs": [
    {
     "data": {
      "text/plain": [
       "[<matplotlib.lines.Line2D at 0x1a2bdb77250>]"
      ]
     },
     "execution_count": 13,
     "metadata": {},
     "output_type": "execute_result"
    },
    {
     "data": {
      "image/png": "[encoded data removed]",
      "text/plain": [
       "<Figure size 432x288 with 1 Axes>"
      ]
     },
     "metadata": {
      "needs_background": "light"
     },
     "output_type": "display_data"
    }
   ],
   "source": [
    "plt.scatter(X, y)\n",
    "plt.plot(X, model.predict(X), color = 'red')"
   ]
  }
 ],
 "metadata": {
  "kernelspec": {
   "display_name": "Python 3 (ipykernel)",
   "language": "python",
   "name": "python3"
  },
  "language_info": {
   "codemirror_mode": {
    "name": "ipython",
    "version": 3
   },
   "file_extension": ".py",
   "mimetype": "text/x-python",
   "name": "python",
   "nbconvert_exporter": "python",
   "pygments_lexer": "ipython3",
   "version": "3.9.13"
  }
 },
 "nbformat": 4,
 "nbformat_minor": 4
}
