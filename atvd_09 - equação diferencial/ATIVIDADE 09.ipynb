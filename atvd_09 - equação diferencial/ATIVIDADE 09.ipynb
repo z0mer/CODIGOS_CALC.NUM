{
 "cells": [
  {
   "cell_type": "code",
   "execution_count": 8,
   "id": "7a4cfc46",
   "metadata": {},
   "outputs": [
    {
     "name": "stdout",
     "output_type": "stream",
     "text": [
      "[1.         1.         1.04       1.126528   1.27881584 1.54047503]\n"
     ]
    },
    {
     "data": {
      "image/png": "[encoded data removed]",
      "text/plain": [
       "<Figure size 640x480 with 1 Axes>"
      ]
     },
     "metadata": {},
     "output_type": "display_data"
    }
   ],
   "source": [
    "import numpy as np\n",
    "import matplotlib.pyplot as plt\n",
    "\n",
    "def odeEuler(f,y0,t):\n",
    "    \n",
    "    y = np.zeros(len(t))\n",
    "    y[0] = y0\n",
    "    for n in range(0,len(t)-1):\n",
    "        y[n+1] = y[n] + f(y[n],t[n])*(t[n+1] - t[n])\n",
    "    return y\n",
    "\n",
    "t = np.linspace(0,1,6)\n",
    "y0 = 1\n",
    "# Definindo a nova função f para a equação y' = x*y^2\n",
    "f = lambda y,x: x * y**2\n",
    "y = odeEuler(f,y0,t)\n",
    "print(y)\n",
    "plt.plot(t,y,'b.-')\n",
    "plt.legend(['Euler'])\n",
    "plt.axis([0,1,1,2])\n",
    "plt.grid(True)\n",
    "plt.show()\n"
   ]
  },
  {
   "cell_type": "code",
   "execution_count": 13,
   "id": "f63b2d88",
   "metadata": {},
   "outputs": [
    {
     "data": {
      "text/latex": [
       "$\\displaystyle - x y^{2}{\\left(x \\right)} + \\frac{d}{d x} y{\\left(x \\right)} = 0$"
      ],
      "text/plain": [
       "Eq(-x*y(x)**2 + Derivative(y(x), x), 0)"
      ]
     },
     "execution_count": 13,
     "metadata": {},
     "output_type": "execute_result"
    }
   ],
   "source": [
    "import sympy as sym\n",
    "import scipy as sp\n",
    "import matplotlib.pyplot as plt\n",
    "x = sym.symbols('x')\n",
    "y= sym.symbols('y', cls=sym.Function)\n",
    "sol=sym.Eq(y(x).diff(x)-(x * y(x)**2), 0)\n",
    "sol"
   ]
  },
  {
   "cell_type": "code",
   "execution_count": 14,
   "id": "0716c671",
   "metadata": {},
   "outputs": [
    {
     "data": {
      "text/latex": [
       "$\\displaystyle y{\\left(x \\right)} = - \\frac{2}{C_{1} + x^{2}}$"
      ],
      "text/plain": [
       "Eq(y(x), -2/(C1 + x**2))"
      ]
     },
     "execution_count": 14,
     "metadata": {},
     "output_type": "execute_result"
    }
   ],
   "source": [
    "soln=sym.dsolve(sol,y(x))\n",
    "soln"
   ]
  },
  {
   "cell_type": "code",
   "execution_count": 16,
   "id": "951a8391",
   "metadata": {},
   "outputs": [
    {
     "data": {
      "text/plain": [
       "{C1: -2}"
      ]
     },
     "metadata": {},
     "output_type": "display_data"
    },
    {
     "data": {
      "text/latex": [
       "$\\displaystyle y{\\left(x \\right)} = - \\frac{2}{x^{2} - 2}$"
      ],
      "text/plain": [
       "Eq(y(x), -2/(x**2 - 2))"
      ]
     },
     "metadata": {},
     "output_type": "display_data"
    }
   ],
   "source": [
    "constants = sym.solve([soln.rhs.subs(x,0) - 1])\n",
    "display(constants)\n",
    "resposta=soln.subs(constants)\n",
    "display(resposta)"
   ]
  },
  {
   "cell_type": "code",
   "execution_count": null,
   "id": "acf78a1a",
   "metadata": {},
   "outputs": [],
   "source": []
  }
 ],
 "metadata": {
  "kernelspec": {
   "display_name": "Python 3 (ipykernel)",
   "language": "python",
   "name": "python3"
  },
  "language_info": {
   "codemirror_mode": {
    "name": "ipython",
    "version": 3
   },
   "file_extension": ".py",
   "mimetype": "text/x-python",
   "name": "python",
   "nbconvert_exporter": "python",
   "pygments_lexer": "ipython3",
   "version": "3.9.13"
  }
 },
 "nbformat": 4,
 "nbformat_minor": 5
}
