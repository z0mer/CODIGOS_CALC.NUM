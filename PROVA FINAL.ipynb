{
 "cells": [
  {
   "cell_type": "code",
   "execution_count": 19,
   "id": "ba0d833b",
   "metadata": {},
   "outputs": [
    {
     "name": "stdout",
     "output_type": "stream",
     "text": [
      "a1 (a):  -0.3\n",
      "a0 (b):  2.7999999999999985\n"
     ]
    }
   ],
   "source": [
    "#questão 04: Achar o coeficiente de correlação de Pearson dos dados da tabela a seguir. Determinar os \n",
    "#coeficientes a e b da reta de regressão linear (y=ax+b) a partir dos dados de x e y.\n",
    "\n",
    "import numpy as np\n",
    "import matplotlib.pyplot as plt\n",
    "\n",
    "# define os dados\n",
    "x = np.array([1,2,3,4]) \n",
    "y = np.array([4.1,0.6,0.3,3.2])\n",
    "\n",
    "n = np.size(x) \n",
    "Sx= np.sum(x)\n",
    "Sy=np.sum(y)\n",
    "Sxy=np.sum(x*y)\n",
    "Sxx=np.sum(x*x)   \n",
    "a1=(n*Sxy-Sx*Sy)/(n*Sxx-Sx**2)   #Calcula o coeficiente a1 da reta\n",
    "a0=(Sxx*Sy-Sxy*Sx)/(n*Sxx-Sx**2) #Calcula o coeficiente a0 da reta\n",
    "print(\"a1 (a): \", a1)\n",
    "print(\"a0 (b): \", a0)\n"
   ]
  },
  {
   "cell_type": "code",
   "execution_count": 20,
   "id": "7322ad8e",
   "metadata": {},
   "outputs": [
    {
     "name": "stdout",
     "output_type": "stream",
     "text": [
      "[[ 1.         -0.20517168]\n",
      " [-0.20517168  1.        ]]\n"
     ]
    }
   ],
   "source": [
    "#4\n",
    "import numpy as np\n",
    "x=[1,2,3,4]\n",
    "y=[4.1,0.6,0.3,3.2]\n",
    "correlacao = np.corrcoef(x, y)\n",
    "print(correlacao)"
   ]
  },
  {
   "cell_type": "code",
   "execution_count": 21,
   "id": "eabb149c",
   "metadata": {},
   "outputs": [
    {
     "name": "stdout",
     "output_type": "stream",
     "text": [
      "1.0\n",
      "0.7\n",
      "0.5000000000000001\n"
     ]
    }
   ],
   "source": [
    "# questão 2: Num projeto de jardinagem serão usadas 3 tipos de flores: rosas, cravos e petúnias, que são vendidas em caixas de 20 mudas cada. Comprando, respectivamente:\n",
    "\n",
    "#(a) 10, 15 e 20 caixas, o gasto será de R$610,00;\n",
    "\n",
    "#(b) 10, 20 e 10 caixas, o gasto será de R$580,00;\n",
    "\n",
    "#(c)  30, 10 e 5 caixas, o gasto será de R$790,00.\n",
    "\n",
    "#Calcular o preço da muda de cada flor.\n",
    "\n",
    "import numpy as np\n",
    "\n",
    "quantidades = np.array([\n",
    "[10, 15, 20],\n",
    "[10, 20, 10],\n",
    "[30, 10, 5]\n",
    "])\n",
    "\n",
    "valores = np.array([610, 580, 790])\n",
    "\n",
    "unitario = np.linalg.solve(quantidades, valores)\n",
    "\n",
    "print(unitario[0] / 20)\n",
    "print(unitario[1] / 20)\n",
    "print(unitario[2] / 20)"
   ]
  }
 ],
 "metadata": {
  "kernelspec": {
   "display_name": "Python 3 (ipykernel)",
   "language": "python",
   "name": "python3"
  },
  "language_info": {
   "codemirror_mode": {
    "name": "ipython",
    "version": 3
   },
   "file_extension": ".py",
   "mimetype": "text/x-python",
   "name": "python",
   "nbconvert_exporter": "python",
   "pygments_lexer": "ipython3",
   "version": "3.9.18"
  }
 },
 "nbformat": 4,
 "nbformat_minor": 5
}
