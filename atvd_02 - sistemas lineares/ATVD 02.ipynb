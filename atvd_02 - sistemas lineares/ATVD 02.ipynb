{
 "cells": [
  {
   "cell_type": "code",
   "execution_count": 7,
   "id": "f6781a10",
   "metadata": {},
   "outputs": [
    {
     "name": "stdout",
     "output_type": "stream",
     "text": [
      "Solução do sistema:\n",
      "[5.0, 4.0, 3.0, 2.0, 1.0]\n"
     ]
    }
   ],
   "source": [
    "#EXERRCÍCIO 01\n",
    "import numpy as np\n",
    "\n",
    "def gaussElimin(C, n, m):\n",
    "    for k in range(n):\n",
    "        if C[k, k] == 0:\n",
    "            for s in range(k + 1, n):\n",
    "                if C[s, k] != 0:\n",
    "                    aux = C[k, :].copy()\n",
    "                    C[k, :] = C[s, :]\n",
    "                    C[s, :] = aux\n",
    "        for i in range(k + 1, n):\n",
    "            mik = C[i, k] / C[k, k]\n",
    "            for j in range(k, m):\n",
    "                C[i, j] = C[i, j] - mik * C[k, j]\n",
    "\n",
    "    return C\n",
    "\n",
    "A = np.array([[1, 1, 1, 1, 1, 15],\n",
    "              [1, 2, 3, 4, 5, 35],\n",
    "              [1, 3, 6, 10, 15, 70],\n",
    "              [1, 4, 10, 20, 35, 126],\n",
    "              [1, 5, 15, 35, 70, 210]])\n",
    "\n",
    "# Transforma em float\n",
    "A = A.astype(float)\n",
    "n = len(A)\n",
    "m = len(A[0])\n",
    "\n",
    "X = gaussElimin(A, n, m)\n",
    "\n",
    "if X[n - 1, m - 2] == 0 and X[n - 1, m - 1] != 0:\n",
    "    print('O sistema é impossível')\n",
    "elif X[n - 1, m - 2] == 0 and X[n - 1, m - 1] == 0:\n",
    "    print('O sistema é indeterminado')\n",
    "else:\n",
    "    x = n * [0]\n",
    "    for i in range(n - 1, -1, -1):\n",
    "        s = sum([A[i][j] * x[j] for j in range(i + 1, n)])\n",
    "        x[i] = (A[i][n] - s) / A[i][i]\n",
    "    print('Solução do sistema:')\n",
    "    print(x)\n"
   ]
  },
  {
   "cell_type": "code",
   "execution_count": 8,
   "id": "d6fdc658",
   "metadata": {
    "scrolled": false
   },
   "outputs": [
    {
     "name": "stdout",
     "output_type": "stream",
     "text": [
      "-8.0\n",
      "x= 4.0\n",
      "y= -2.13\n",
      "z= -0.38\n"
     ]
    }
   ],
   "source": [
    "#EXERCÍCIO 02 - 1\n",
    "import numpy as np\n",
    "\n",
    "matriz_D=np.matrix([[3,5,1],[2,2,2],[4,7,3]])\n",
    "\n",
    "D=np.linalg.det(matriz_D)\n",
    "print(round(D,2))\n",
    "\n",
    "matriz_Dx=np.matrix([[1,5,1],[3,2,2],[0,7,3]])\n",
    "Dx=np.linalg.det(matriz_Dx)\n",
    "\n",
    "matriz_Dy=np.matrix([[3,1,1],[2,3,2],[4,0,3]])\n",
    "Dy=np.linalg.det(matriz_Dy)\n",
    "\n",
    "matriz_Dz=np.matrix([[3,5,1],[2,2,3],[4,7,0]])\n",
    "Dz=np.linalg.det(matriz_Dz)\n",
    "\n",
    "x=Dx/D\n",
    "y=Dy/D\n",
    "z=Dz/D\n",
    "print(\"x=\",np.round(x,2))\n",
    "print(\"y=\",np.round(y,2))\n",
    "print(\"z=\", np.round(z,2))"
   ]
  },
  {
   "cell_type": "code",
   "execution_count": 12,
   "id": "295e72db",
   "metadata": {},
   "outputs": [
    {
     "data": {
      "text/plain": [
       "{x: 4, y: -17/8, z: -3/8}"
      ]
     },
     "execution_count": 12,
     "metadata": {},
     "output_type": "execute_result"
    }
   ],
   "source": [
    "#EXERCÍCIO 02 - 2\n",
    "from sympy import Matrix, solve_linear_system\n",
    "from sympy.abc import x, y,z\n",
    "system = Matrix(( (3,5,1,1), (2,2,2,3),(4,7,3,0)))\n",
    "solve_linear_system(system, x, y,z)"
   ]
  },
  {
   "cell_type": "code",
   "execution_count": null,
   "id": "89c4de2b",
   "metadata": {},
   "outputs": [],
   "source": []
  }
 ],
 "metadata": {
  "kernelspec": {
   "display_name": "Python 3 (ipykernel)",
   "language": "python",
   "name": "python3"
  },
  "language_info": {
   "codemirror_mode": {
    "name": "ipython",
    "version": 3
   },
   "file_extension": ".py",
   "mimetype": "text/x-python",
   "name": "python",
   "nbconvert_exporter": "python",
   "pygments_lexer": "ipython3",
   "version": "3.9.13"
  }
 },
 "nbformat": 4,
 "nbformat_minor": 5
}
