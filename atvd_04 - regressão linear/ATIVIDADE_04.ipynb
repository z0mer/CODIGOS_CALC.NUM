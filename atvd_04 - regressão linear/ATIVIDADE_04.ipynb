{
 "cells": [
  {
   "cell_type": "code",
   "execution_count": 11,
   "id": "fa260f1f",
   "metadata": {},
   "outputs": [
    {
     "name": "stdout",
     "output_type": "stream",
     "text": [
      "a1:  0.6400462962962963\n",
      "a0:  5.6967592592592595\n"
     ]
    }
   ],
   "source": [
    "#ALTERNATVA A E B\n",
    "\n",
    "import numpy as np\n",
    "import matplotlib.pyplot as plt\n",
    "\n",
    "# define os dados\n",
    "x = np.array([2,5,6,8,9,13,15]) \n",
    "y = np.array([7,8,10,11,12,14,15])\n",
    "\n",
    "n = np.size(x) \n",
    "Sx= np.sum(x)\n",
    "Sy=np.sum(y)\n",
    "Sxy=np.sum(x*y)\n",
    "Sxx=np.sum(x*x)   \n",
    "a1=(n*Sxy-Sx*Sy)/(n*Sxx-Sx**2)   #Calcula o coeficiente a1 da reta\n",
    "a0=(Sxx*Sy-Sxy*Sx)/(n*Sxx-Sx**2) #Calcula o coeficiente a0 da reta\n",
    "print(\"a1: \", a1)\n",
    "print(\"a0: \", a0)\n"
   ]
  },
  {
   "cell_type": "code",
   "execution_count": 12,
   "id": "08486ff2",
   "metadata": {},
   "outputs": [
    {
     "name": "stdout",
     "output_type": "stream",
     "text": [
      "x=7:  10.177083333333334\n"
     ]
    }
   ],
   "source": [
    "#ALTERNATIVA C\n",
    "T = 7\n",
    "\n",
    "y_pred = a0 + a1 * T\n",
    "\n",
    "# Imprimindo o valor de y com duas casas decimais\n",
    "print(\"x=7: \", y_pred)\n"
   ]
  },
  {
   "cell_type": "code",
   "execution_count": 13,
   "id": "791f6819",
   "metadata": {},
   "outputs": [
    {
     "name": "stdout",
     "output_type": "stream",
     "text": [
      "RS: 1.4363425925925914\n"
     ]
    }
   ],
   "source": [
    "#ALTERNATIVA D\n",
    "#funcao que calcula o Residuo\n",
    "def Residuo(x,y,b0,b1):\n",
    "    n = len(y)\n",
    "    RS = 0\n",
    "    for i in range(0,n):\n",
    "         y_pred=b0+b1*x[i]\n",
    "         RS = RS + (y[i]-y_pred)**2\n",
    "    return RS\n",
    "print('RS:', Residuo(x,y,a0,a1))"
   ]
  },
  {
   "cell_type": "code",
   "execution_count": 17,
   "id": "76915da7",
   "metadata": {},
   "outputs": [
    {
     "name": "stdout",
     "output_type": "stream",
     "text": [
      "[[1.        0.9860923]\n",
      " [0.9860923 1.       ]]\n"
     ]
    }
   ],
   "source": [
    "#ALTERNATIVA E\n",
    "x=[2,5,6,8,9,13,15]\n",
    "y=[7,8,10,11,12,14,15]\n",
    "correlacao = np.corrcoef(x, y)\n",
    "print(correlacao)"
   ]
  },
  {
   "cell_type": "code",
   "execution_count": 16,
   "id": "8424e08a",
   "metadata": {},
   "outputs": [
    {
     "name": "stdout",
     "output_type": "stream",
     "text": [
      "R2: 0.9723780270655271\n"
     ]
    }
   ],
   "source": [
    "#ALTERNATIVA F\n",
    "from sklearn.linear_model import LinearRegression\n",
    "from sklearn.metrics import r2_score\n",
    "\n",
    "x=[2,5,6,8,9,13,15]\n",
    "y=[7,8,10,11,12,14,15]\n",
    "x = np.array(x)\n",
    "x = x.reshape(-1, 1)\n",
    "modelo = LinearRegression().fit(x, y)\n",
    "R2 = r2_score(y, modelo.predict(x))\n",
    "print('R2:', R2)"
   ]
  },
  {
   "cell_type": "code",
   "execution_count": null,
   "id": "8c5d77d8",
   "metadata": {},
   "outputs": [],
   "source": []
  }
 ],
 "metadata": {
  "kernelspec": {
   "display_name": "Python 3 (ipykernel)",
   "language": "python",
   "name": "python3"
  },
  "language_info": {
   "codemirror_mode": {
    "name": "ipython",
    "version": 3
   },
   "file_extension": ".py",
   "mimetype": "text/x-python",
   "name": "python",
   "nbconvert_exporter": "python",
   "pygments_lexer": "ipython3",
   "version": "3.9.13"
  }
 },
 "nbformat": 4,
 "nbformat_minor": 5
}
