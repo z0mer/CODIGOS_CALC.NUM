{
 "cells": [
  {
   "cell_type": "markdown",
   "metadata": {
    "id": "-Vz2VEtr7wNG"
   },
   "source": [
    "# **ATIVIDADE 4 - CA4322 - TURMA 135**\n",
    "\n",
    "NOME:Anna Carolina Ribeiro Pires Zomer\n",
    "\n",
    "NOME:Humberto de Oliveira Pellegrini"
   ]
  },
  {
   "cell_type": "markdown",
   "metadata": {
    "id": "VVHN01n_7-cf"
   },
   "source": [
    "**Exercício 1:**\n",
    "\n",
    "Resolver o seguinte sistemas linear:\n",
    "$$\n",
    "\\left\\{\n",
    "\\begin{align}\n",
    "& x-2y+z+3t=0\\\\\n",
    "& 2x+2y-z+t=0\\\\\n",
    "& -x-y+3z+2t=0\\\\\n",
    "& x-8y-z+3t=0\n",
    "\\end{align}\n",
    "\\right.\n",
    "$$\n",
    "\n",
    "\n",
    "          "
   ]
  },
  {
   "cell_type": "code",
   "execution_count": 8,
   "metadata": {
    "id": "n_LToqwr9-V6"
   },
   "outputs": [
    {
     "data": {
      "text/plain": [
       "{x: -4*t/3, y: t/3, z: -t}"
      ]
     },
     "execution_count": 8,
     "metadata": {},
     "output_type": "execute_result"
    }
   ],
   "source": [
    "from sympy import Matrix, solve_linear_system\n",
    "from sympy.abc import x, y, z, t\n",
    "system = Matrix(( (1,-2,1,3,0), (2,2,-1,1,0),(-1,-1,3,2,0), (1,-8,-1,3,0)))\n",
    "solve_linear_system(system, x, y, z, t)"
   ]
  },
  {
   "cell_type": "markdown",
   "metadata": {
    "id": "axGbd722D-oK"
   },
   "source": [
    "**Exercício 2:**\n",
    "\n",
    "Construir o gráfico da função f(x)=3x$^2$*exp(x-2) com x variando de -1 até 4 com 50 pontos. Calcular a derivada de primeira ordem de f(x) e a derivada de terceira ordem. Calcular a integral indefinida de f(x) e a integral definida com x variando entre 1 e 3. "
   ]
  },
  {
   "cell_type": "code",
   "execution_count": 29,
   "metadata": {
    "id": "803NiOjjEWPp"
   },
   "outputs": [
    {
     "name": "stdout",
     "output_type": "stream",
     "text": [
      "Derivada de primeira ordem:  3*x**2*exp(x - 2) + 6*x*exp(x - 2)\n",
      "Derivada de terceira ordem:  3*(x**2 + 6*x + 6)*exp(x - 2)\n",
      " \n",
      "Integral Indefinida:  (3*x**2 - 6*x + 6)*exp(x - 2)\n",
      "Integral Definida:  -3*exp(-1) + 15*E\n"
     ]
    },
    {
     "data": {
      "image/png": "[encoded data removed]",
      "text/plain": [
       "<Figure size 640x480 with 1 Axes>"
      ]
     },
     "metadata": {},
     "output_type": "display_data"
    }
   ],
   "source": [
    "#GRÁFICO\n",
    "import numpy as np\n",
    "import matplotlib.pyplot as plt\n",
    "from sympy import *\n",
    "%matplotlib inline  \n",
    "\n",
    "x = np.linspace(-1,4,50) \n",
    "y = 3*x**2*np.exp(x-2)   \n",
    "plt.plot(x,y)\n",
    "\n",
    "x = symbols('x')\n",
    "eq = 3*x**2*exp(x-2)\n",
    "#calculo da deriva primeira\n",
    "p = diff(eq,x)\n",
    "print(\"Derivada de primeira ordem: \",p)\n",
    "#calculo da deriva terceira\n",
    "t = diff(eq, x, 3)\n",
    "print(\"Derivada de terceira ordem: \",t)\n",
    "print(\" \")\n",
    "\n",
    "# INDEFINIDA e DEFINIDA\n",
    "x,y=symbols('x y')\n",
    "y = 3*x**2*exp(x-2)\n",
    "i = integrate(y,x)\n",
    "d = integrate(y,(x,1,3))\n",
    "print(\"Integral Indefinida: \", i)\n",
    "print(\"Integral Definida: \", d)"
   ]
  },
  {
   "cell_type": "markdown",
   "metadata": {
    "id": "hF6eEuTiMJN8"
   },
   "source": [
    "**Exercício 3:**\n",
    "\n",
    "O dono de uma loja de materiais de fixação está repondo seu estoque de parafusos, porcas e arruelas. Os parafusos são fornecidos em caixas de 200 unidades, as porcas em caixas de 400 unidades e as arruelas em caixas de 200 unidades. Se ele comprar: 12 caixas de parafusos, 10 caixas de porcas e 9 caixas de arruela, gastará  3864,00 11 caixas de parafusos, 9 caixas de porcas e 7 caixas de arruela, gastará 3450,00 15 caixas de parafusos, 12 caixas de porcas e 6 caixas de arruela, gastará 4482,00 Determinar o custo unitário do parafuso, da porca e da arruela. Usar qualquer método de resolução computacional.\n",
    "\n",
    "Resposta: parafusos: 0,63 ; porcas: 0,48 ; arruelas: 0,24\n"
   ]
  },
  {
   "cell_type": "code",
   "execution_count": 28,
   "metadata": {
    "id": "R0RF0E2iMnsk"
   },
   "outputs": [
    {
     "name": "stdout",
     "output_type": "stream",
     "text": [
      "0.6300000000000108\n",
      "0.4799999999999929\n",
      "0.24000000000000127\n"
     ]
    }
   ],
   "source": [
    "import numpy as np\n",
    "\n",
    "quantidades = np.array([\n",
    "[12, 10, 9],\n",
    "[11, 9, 7],\n",
    "[15, 12, 6]\n",
    "])\n",
    "\n",
    "valores = np.array([3864, 3450, 4482])\n",
    "\n",
    "unitario = np.linalg.solve(quantidades, valores)\n",
    "\n",
    "print(unitario[0] / 200)\n",
    "print(unitario[1] / 400)\n",
    "print(unitario[2] / 200)"
   ]
  },
  {
   "cell_type": "markdown",
   "metadata": {
    "id": "zWQGOt9rMpm0"
   },
   "source": [
    "**Exercício 4:**\n",
    "\n",
    "Três turistas na Itália trocaram, por euros, as quantias descritas abaixo, determinar o valor do dólar em euros, o valor da libras esterlina em euros e o valor do real em euros, no dia da transação? Turista 1 - 200 dólares, 100 libras, 500 reais por 495,00 euros. Turista 2 - 250 dólares, 120 libras, 400 reais por 532,50 euros. Turista 3 - 400 dólares, 80 libras, 600 reais por 585,00 euros. Usar qualquer método de resolução computacional."
   ]
  },
  {
   "cell_type": "code",
   "execution_count": 34,
   "metadata": {
    "id": "m3D5lF4QM8Tj"
   },
   "outputs": [
    {
     "data": {
      "text/plain": [
       "{d: 0.510000000000000, l: 2.26500000000000, r: 0.333000000000000}"
      ]
     },
     "execution_count": 34,
     "metadata": {},
     "output_type": "execute_result"
    }
   ],
   "source": [
    "from sympy import Matrix, solve_linear_system\n",
    "from sympy.abc import d, l, r\n",
    "system = Matrix(( (200,100,500,495), (250,120,400,532.5),(400,80,600,585)))\n",
    "solve_linear_system(system, d, l, r)"
   ]
  },
  {
   "cell_type": "markdown",
   "metadata": {
    "id": "1lDGFVEaOJ9s"
   },
   "source": [
    "**Exercício 5:**\n",
    "\n",
    "A partir da equação x$^2$+sen(x)-5=0, fazer o gráfico para localização da(s) raiz(es) e aplicar o Teorema de Bolzano no intervalo que contém a(s) raiz(es). Aplicar o Teorema de Bolzano no intervalo de -3 até 3. Escolher a função fsolve ou o método de Newton Raphson para calcular a maior raiz da equação."
   ]
  },
  {
   "cell_type": "code",
   "execution_count": 37,
   "metadata": {},
   "outputs": [
    {
     "name": "stdout",
     "output_type": "stream",
     "text": [
      "[[-3 -2 -1  0  1  2  3]]\n",
      "[[ 3.85887999 -1.90929743 -4.84147098 -5.         -3.15852902 -0.09070257\n",
      "   4.14112001]]\n",
      "ponto médio:  2.5\n",
      "raiz:  2.02521163744482\n"
     ]
    },
    {
     "data": {
      "image/png": "[encoded data removed]",
      "text/plain": [
       "<Figure size 640x480 with 1 Axes>"
      ]
     },
     "metadata": {},
     "output_type": "display_data"
    }
   ],
   "source": [
    "import matplotlib.pyplot as plt\n",
    "import numpy as np\n",
    "from sympy import *\n",
    "\n",
    "x = np.linspace(-3,3,40)\n",
    "y1 = x**2-5\n",
    "y2= -np.sin(x)\n",
    "# gera dois gráficos simultaneamente\n",
    "plt.plot(x,y1,x,y2,linewidth = 3)\n",
    "\n",
    "plt.grid(True)\n",
    "\n",
    "x = np.array([i for i in range(-3,4,1)]).reshape((1,7))\n",
    "y=x**2+np.sin(x)-5;\n",
    "print(x)\n",
    "print(y)\n",
    "\n",
    "x=Symbol('x')\n",
    "def NewtonsMethod(x0):\n",
    "    tolerance=0.000001\n",
    "    d=diff(f(x),x)\n",
    "    while True:\n",
    "        x1 = x0 - (f(x0)/d.doit().subs({x:x0}))\n",
    "        t = abs(x1 - x0)\n",
    "        if t < tolerance:\n",
    "            break\n",
    "        x0 = x1\n",
    "    return x1\n",
    "def f(x):\n",
    "    return x**2+sin(x)-5\n",
    "xi = 2.5  # ponto médio do intervalo\n",
    "xr = NewtonsMethod(xi)\n",
    "print('ponto médio: ', xi)\n",
    "print('raiz: ', xr)\n"
   ]
  },
  {
   "cell_type": "code",
   "execution_count": null,
   "metadata": {},
   "outputs": [],
   "source": []
  }
 ],
 "metadata": {
  "colab": {
   "provenance": []
  },
  "kernelspec": {
   "display_name": "Python 3 (ipykernel)",
   "language": "python",
   "name": "python3"
  },
  "language_info": {
   "codemirror_mode": {
    "name": "ipython",
    "version": 3
   },
   "file_extension": ".py",
   "mimetype": "text/x-python",
   "name": "python",
   "nbconvert_exporter": "python",
   "pygments_lexer": "ipython3",
   "version": "3.9.13"
  }
 },
 "nbformat": 4,
 "nbformat_minor": 1
}
